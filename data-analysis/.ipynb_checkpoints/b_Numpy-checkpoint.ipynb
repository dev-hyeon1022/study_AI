{
 "cells": [
  {
   "cell_type": "markdown",
   "id": "d65a4dfa",
   "metadata": {},
   "source": [
    "### Numpy\n",
    "\n",
    "- 머신러닝 애플리케이션에서 데이터 추출, 가공, 변환과 같은 데이터 처리 부분을 담당한다.\n",
    "- 넘파이 기반의 사이킷런을 이해하기 위해서는 넘파이는 필수이다.\n",
    "- 사이킷런은 직관적이고 간결하기 때문에 상대적으로 개발하기 쉽지만 넘파이는 양도 많고 배워야 할 것도 많다.\n",
    "- 넘파이 전체를 다 이해하고 공부하는 것은 머신러닝을 포기하게 만들기 때문에 기본 문법과 중요 API만 이해하는 것이 전략적으로 좋다."
   ]
  },
  {
   "cell_type": "markdown",
   "id": "0166c497",
   "metadata": {},
   "source": [
    "### ndarray\n",
    "- N차원(Dimension) 배열 객체\n",
    "- 파이썬 list를 array() 메소드에 전달하면 ndarray로 변환되고 다양하고 편리한 기능들을 사용할 수 있게 된다.  \n",
    "📌반드시 같은 자료형의 데이터만 담아야 한다.\n",
    "\n",
    "![](./image/numpy1.png)"
   ]
  },
  {
   "cell_type": "code",
   "execution_count": 21,
   "id": "e46e4dc1",
   "metadata": {},
   "outputs": [],
   "source": [
    "import numpy as np"
   ]
  },
  {
   "cell_type": "code",
   "execution_count": 22,
   "id": "7389de9b",
   "metadata": {},
   "outputs": [
    {
     "name": "stdout",
     "output_type": "stream",
     "text": [
      "(3,)\n",
      "(2, 3)\n",
      "1\n",
      "2\n"
     ]
    }
   ],
   "source": [
    "ndarray1 = np.array([1, 2, 3])\n",
    "ndarray2 = np.array([[1, 2, 3], [4, 5, 6]])\n",
    "\n",
    "# shape: 차원을 알 수 있으며, 각 차원별 개수를 나타냄\n",
    "print(ndarray1.shape, ndarray2.shape, sep=\"\\n\")\n",
    "\n",
    "# ndim: 차원만 나타냄\n",
    "print(ndarray1.ndim, ndarray2.ndim, sep=\"\\n\")"
   ]
  },
  {
   "cell_type": "markdown",
   "id": "5e4bd6a1",
   "metadata": {},
   "source": [
    "### astype()\n",
    "- ndarray에 저장된 요소의 타입을 변환 시킬 때 사용한다.\n",
    "- 대용량 데이터 처리 시, 메모리 절약을 위해 사용한다."
   ]
  },
  {
   "cell_type": "code",
   "execution_count": 23,
   "id": "26ae5952",
   "metadata": {},
   "outputs": [
    {
     "name": "stdout",
     "output_type": "stream",
     "text": [
      "<class 'numpy.ndarray'>\n",
      "[1 2 3] int32\n"
     ]
    }
   ],
   "source": [
    "ndarray1 = np.array([1, 2, 3])\n",
    "print(type(ndarray1))\n",
    "# dtype: 요소의 타입\n",
    "print(ndarray1, ndarray1.dtype)"
   ]
  },
  {
   "cell_type": "code",
   "execution_count": 24,
   "id": "66dc3d6a",
   "metadata": {},
   "outputs": [
    {
     "name": "stdout",
     "output_type": "stream",
     "text": [
      "[1. 2. 3.] float64\n",
      "[1 2 3] int32\n",
      "[4 5 6] int32\n"
     ]
    }
   ],
   "source": [
    "ndarray_int = np.array([1, 2, 3])\n",
    "\n",
    "# ndarray_float = ndarray_int.astype(np.float64)\n",
    "ndarray_float = ndarray_int.astype('float64')\n",
    "print(ndarray_float, ndarray_float.dtype)\n",
    "\n",
    "ndarray_int= ndarray_float.astype('int32')\n",
    "print(ndarray_int, ndarray_int.dtype)\n",
    "\n",
    "ndarray_float = np.array([4.5, 5.6, 6.7])\n",
    "ndarray_int= ndarray_float.astype('int32')\n",
    "print(ndarray_int, ndarray_int.dtype)"
   ]
  },
  {
   "cell_type": "markdown",
   "id": "c529850c",
   "metadata": {},
   "source": [
    "### ndarray의 axis\n",
    "- 축의 방향성을 표현할 때 axis로 표현할 수 있다.\n",
    "- 2차원(행, 열)일 경우 순서대로 행: axis 0(위에서 아래로), 열: axis 1(왼쪽에서 오른쪽)이다.\n",
    "- 3차원(면, 행, 열)일 경우 순서대로 면: axis 0(뒤에서 앞으로), 행: axis 1(위에서 아래로), 열: axis 2(왼쪽에서 오른쪽)이다.\n",
    "\n",
    "![](./image/numpy2.png)"
   ]
  },
  {
   "cell_type": "markdown",
   "id": "bda9ba58",
   "metadata": {},
   "source": [
    "### arange(), zeros(), ones()\n",
    "- ndarray의 요소를 원하는 범위의 연속값, 0 또는 1로 초기화할 때 사용한다."
   ]
  },
  {
   "cell_type": "code",
   "execution_count": 25,
   "id": "badd486b",
   "metadata": {},
   "outputs": [
    {
     "name": "stdout",
     "output_type": "stream",
     "text": [
      "[0 1 2 3 4 5 6 7 8 9] int32 (10,)\n",
      "[[0. 0. 0.]\n",
      " [0. 0. 0.]] float64 (2, 3)\n",
      "[1. 1. 1.] float64 (3,)\n",
      "[1 1 1]\n"
     ]
    }
   ],
   "source": [
    "# 0~9까지 1차원\n",
    "ndarray = np.arange(0, 10)\n",
    "print(ndarray, ndarray.dtype, ndarray.shape)\n",
    "\n",
    "# 2행 3열 요소 모두 0으로 초기화\n",
    "ndarray = np.zeros((2, 3))\n",
    "print(ndarray, ndarray.dtype, ndarray.shape)\n",
    "\n",
    "# 1차원 3칸 배열 요소 모두 1로 초기화\n",
    "ndarray = np.ones((3, ))\n",
    "print(ndarray, ndarray.dtype, ndarray.shape)\n",
    "\n",
    "# 요소 타입 정수로 변환\n",
    "print(ndarray.astype(np.int32))"
   ]
  },
  {
   "cell_type": "markdown",
   "id": "88fdfe4c",
   "metadata": {},
   "source": [
    "### Task"
   ]
  },
  {
   "cell_type": "code",
   "execution_count": 26,
   "id": "b13fa267",
   "metadata": {},
   "outputs": [],
   "source": [
    "# axis0이 10인 shape이면서 모든 원소가 0, dtype은 int32 인 ndarray 만들기\n",
    "# axis0이 3, axis1이 4인 shape이면서 모든 원소가 1인 ndarray 만들기\n",
    "# axis0이 5, 각 요소가 0~4인 ndarray 만들기"
   ]
  },
  {
   "cell_type": "code",
   "execution_count": 27,
   "id": "f4f4b3d1",
   "metadata": {},
   "outputs": [
    {
     "name": "stdout",
     "output_type": "stream",
     "text": [
      "[0 0 0 0 0 0 0 0 0 0] int32 (10,)\n",
      "[[1. 1. 1. 1.]\n",
      " [1. 1. 1. 1.]\n",
      " [1. 1. 1. 1.]] float64 (3, 4)\n",
      "[0 1 2 3 4] int32 (5,)\n"
     ]
    }
   ],
   "source": [
    "# axis0이 10인 shape이면서 모든 원소가 0, dtype은 int32 인 ndarray 만들기\n",
    "ndarray = np.zeros((10, ), dtype=np.int32)\n",
    "print(ndarray, ndarray.dtype, ndarray.shape)\n",
    "\n",
    "# axis0이 3, axis1이 4인 shape이면서 모든 원소가 1인 ndarray 만들기\n",
    "# ndarray = np.ones((3, 4), dtype=np.int32)\n",
    "ndarray = np.ones((3, 4))\n",
    "print(ndarray, ndarray.dtype, ndarray.shape)\n",
    "\n",
    "# axis0이 5, 각 요소가 0~4인 ndarray 만들기\n",
    "ndarray = np.arange(5)\n",
    "print(ndarray, ndarray.dtype, ndarray.shape)"
   ]
  },
  {
   "cell_type": "markdown",
   "id": "ac92778c",
   "metadata": {},
   "source": [
    "### reshape()\n",
    "- ndarray의 기존 shape를 다른 shape로 변경한다."
   ]
  },
  {
   "cell_type": "code",
   "execution_count": 28,
   "id": "1df3da73",
   "metadata": {},
   "outputs": [
    {
     "name": "stdout",
     "output_type": "stream",
     "text": [
      "[0 1 2 3 4 5 6 7]\n",
      "[[0 1 2 3]\n",
      " [4 5 6 7]]\n",
      "[[0 1]\n",
      " [2 3]\n",
      " [4 5]\n",
      " [6 7]]\n"
     ]
    }
   ],
   "source": [
    "ndarray1 = np.arange(8)\n",
    "print(ndarray1)\n",
    "\n",
    "ndarray2 = ndarray1.reshape(2, 4)\n",
    "print(ndarray2)\n",
    "\n",
    "# axis 0에 -1을 작성하면, 자동으로 열 개수로 나누어 맞춰진다. 직접 계산해서 작성하는 번거로움을 줄여준다.\n",
    "ndarray2 = ndarray1.reshape(-1, 2)\n",
    "print(ndarray2)\n",
    "\n",
    "# 나누어 떨어지지 않으면 오류 발생.\n",
    "# ndarray2 = ndarray1.reshape(-1, 5)"
   ]
  },
  {
   "cell_type": "markdown",
   "id": "f8396436",
   "metadata": {},
   "source": [
    "### Task"
   ]
  },
  {
   "cell_type": "code",
   "execution_count": 29,
   "id": "0a61648d",
   "metadata": {},
   "outputs": [
    {
     "name": "stdout",
     "output_type": "stream",
     "text": [
      "[ 0  1  2  3  4  5  6  7  8  9 10 11 12 13 14 15]\n"
     ]
    }
   ],
   "source": [
    "ndarray1 = np.arange(start=0, stop=16)\n",
    "print(ndarray1)\n",
    "\n",
    "# 2 Dimension, axis 1은 2로 변경\n",
    "# 2 Dimension, axis 0은 8로 변경\n",
    "# 3 Dimension으로 변경\n",
    "# ndarray3을 axis 1이 1인 2차원 ndarray로 변환\n",
    "# ndarray3을 1 Dimension으로 변환"
   ]
  },
  {
   "cell_type": "code",
   "execution_count": 30,
   "id": "f8cb6e64",
   "metadata": {},
   "outputs": [
    {
     "name": "stdout",
     "output_type": "stream",
     "text": [
      "[ 0  1  2  3  4  5  6  7  8  9 10 11 12 13 14 15]\n",
      "(8, 2)\n",
      "(8, 2)\n",
      "[[[ 0  1  2  3]\n",
      "  [ 4  5  6  7]]\n",
      "\n",
      " [[ 8  9 10 11]\n",
      "  [12 13 14 15]]]\n",
      "[[ 0]\n",
      " [ 1]\n",
      " [ 2]\n",
      " [ 3]\n",
      " [ 4]\n",
      " [ 5]\n",
      " [ 6]\n",
      " [ 7]\n",
      " [ 8]\n",
      " [ 9]\n",
      " [10]\n",
      " [11]\n",
      " [12]\n",
      " [13]\n",
      " [14]\n",
      " [15]] (16, 1)\n",
      "(16,)\n"
     ]
    }
   ],
   "source": [
    "ndarray1 = np.arange(start=0, stop=16)\n",
    "print(ndarray1)\n",
    "\n",
    "# 2 Dimension, axis 1은 2로 변경\n",
    "ndarray2 = ndarray1.reshape(-1,2)\n",
    "print(ndarray2.shape)\n",
    "\n",
    "# 2 Dimension, axis 0은 8로 변경\n",
    "ndarray2 = ndarray1.reshape(8,-1)\n",
    "print(ndarray2.shape)\n",
    "\n",
    "# 3 Dimension으로 변경\n",
    "ndarray3 = ndarray1.reshape((2,2,4))\n",
    "print(ndarray3)\n",
    "\n",
    "# ndarray3을 axis 1이 1인 2차원 ndarray로 변환\n",
    "ndarray2 = ndarray3.reshape(-1, 1)\n",
    "print(ndarray2, ndarray2.shape)\n",
    "\n",
    "# ndarray3을 1 Dimension으로 변환\n",
    "ndarray1 = ndarray3.reshape(-1,)\n",
    "print(ndarray1.shape)"
   ]
  },
  {
   "cell_type": "markdown",
   "id": "19a24dd7",
   "metadata": {},
   "source": [
    "### Indexing\n",
    "- 특정 위치의 데이터를 가져오는 것\n",
    "1. 위치 인덱싱: 전달한 위치(인덱스)의 값 한 개 추출\n",
    "2. 슬라이싱(Slicing): 시작 위치와 종료 위치에 해당하는 ndarray 추출\n",
    "3. 팬시 인덱싱(Fancy indexing): list를 전달하여 한 번에 여러 요소를 추출, 특정 위치 값들을 콕 찝어서 추출\n",
    "4. 불린 인덱싱(Boolean indexing): True인 위치의 ndarray 추출"
   ]
  },
  {
   "cell_type": "code",
   "execution_count": 31,
   "id": "9f3107e6",
   "metadata": {},
   "outputs": [
    {
     "name": "stdout",
     "output_type": "stream",
     "text": [
      "[2 3 4 5 6 7 8 9]\n",
      "4\n",
      "<class 'numpy.int32'>\n",
      "마지막 >>  9\n",
      "마지막에서 두 번째 >>  8\n",
      "[9 3 4 5 6 7 8 2]\n"
     ]
    }
   ],
   "source": [
    "# 1. 위치 인덱싱\n",
    "\n",
    "# 2부터 10까지 순서대로 요소를 갖는 1차원 ndarray\n",
    "ndarray = np.arange(start=2, stop=10)\n",
    "print(ndarray)\n",
    "\n",
    "data = ndarray[2]\n",
    "print(data)\n",
    "print(type(data))\n",
    "\n",
    "print('마지막 >> ',ndarray[-1])\n",
    "print('마지막에서 두 번째 >> ',ndarray[-2])\n",
    "\n",
    "ndarray[-1] = 2\n",
    "ndarray[0] = 9\n",
    "print(ndarray)"
   ]
  },
  {
   "cell_type": "code",
   "execution_count": 32,
   "id": "db6d92bf",
   "metadata": {},
   "outputs": [
    {
     "name": "stdout",
     "output_type": "stream",
     "text": [
      "[[1 2 3]\n",
      " [4 5 6]\n",
      " [7 8 9]]\n",
      "4\n",
      "5\n",
      "7\n",
      "8\n",
      "[1 2 3] (3,)\n"
     ]
    }
   ],
   "source": [
    "ndarray1 = np.arange(start=1, stop=10)\n",
    "ndarray2 = ndarray1.reshape(3,3)\n",
    "print(ndarray2)\n",
    "\n",
    "print(ndarray2[1,0])\n",
    "print(ndarray2[1,1])\n",
    "print(ndarray2[2,0])\n",
    "print(ndarray2[2,1])\n",
    "print(ndarray2[0], ndarray2[0].shape)"
   ]
  },
  {
   "cell_type": "code",
   "execution_count": 33,
   "id": "08b11f0c",
   "metadata": {},
   "outputs": [
    {
     "name": "stdout",
     "output_type": "stream",
     "text": [
      "[ 2  4  6  8 10]\n",
      "[2 4 6]\n",
      "[ 8 10]\n",
      "[ 2  4  6  8 10]\n",
      "[ 4  6  8 10]\n"
     ]
    }
   ],
   "source": [
    "# 2. 슬라이싱(Slicing)\n",
    "\n",
    "ndarray1 = np.arange(start=2, stop=11, step=2)\n",
    "print(ndarray1)\n",
    "\n",
    "print(ndarray1[:3])\n",
    "print(ndarray1[3:])\n",
    "print(ndarray1[:])\n",
    "print(ndarray1[-4:])"
   ]
  },
  {
   "cell_type": "code",
   "execution_count": 34,
   "id": "f7592657",
   "metadata": {},
   "outputs": [
    {
     "name": "stdout",
     "output_type": "stream",
     "text": [
      "[ 1  2  3  4  5  6  7  8  9 10 11 12 13 14 15 16 17 18 19 20 21 22 23 24\n",
      " 25 26 27]\n",
      "[[ 1  2  3]\n",
      " [ 4  5  6]\n",
      " [ 7  8  9]\n",
      " [10 11 12]\n",
      " [13 14 15]\n",
      " [16 17 18]\n",
      " [19 20 21]\n",
      " [22 23 24]\n",
      " [25 26 27]]\n",
      "[[1 2]\n",
      " [4 5]\n",
      " [7 8]]\n",
      "[[13 14 15]\n",
      " [16 17 18]\n",
      " [19 20 21]\n",
      " [22 23 24]\n",
      " [25 26 27]]\n",
      "[[13 14 15]\n",
      " [16 17 18]\n",
      " [19 20 21]\n",
      " [22 23 24]\n",
      " [25 26 27]]\n",
      "[[ 1  2  3]\n",
      " [ 4  5  6]\n",
      " [ 7  8  9]\n",
      " [10 11 12]\n",
      " [13 14 15]\n",
      " [16 17 18]\n",
      " [19 20 21]\n",
      " [22 23 24]\n",
      " [25 26 27]]\n",
      "[[22 23]]\n",
      "[[25 26 27]\n",
      " [22 23 24]\n",
      " [19 20 21]\n",
      " [16 17 18]\n",
      " [13 14 15]\n",
      " [10 11 12]\n",
      " [ 7  8  9]\n",
      " [ 4  5  6]\n",
      " [ 1  2  3]]\n",
      "[[27 26 25]\n",
      " [24 23 22]\n",
      " [21 20 19]\n",
      " [18 17 16]\n",
      " [15 14 13]\n",
      " [12 11 10]\n",
      " [ 9  8  7]\n",
      " [ 6  5  4]\n",
      " [ 3  2  1]]\n"
     ]
    }
   ],
   "source": [
    "ndarray1 = np.arange(start=1, stop=28)\n",
    "print(ndarray1)\n",
    "ndarray2 = ndarray1.reshape(-1,3)\n",
    "print(ndarray2)\n",
    "\n",
    "print(ndarray2[:3, :2])\n",
    "print(ndarray2[4:9])\n",
    "print(ndarray2[4:, :])\n",
    "print(ndarray2[:])\n",
    "print(ndarray2[-2:-1, 0:2])\n",
    "print(ndarray2[::-1])\n",
    "print(ndarray2[::-1, ::-1])"
   ]
  },
  {
   "cell_type": "code",
   "execution_count": 35,
   "id": "f000a93a",
   "metadata": {},
   "outputs": [
    {
     "name": "stdout",
     "output_type": "stream",
     "text": [
      "[[ 1  2  3  4  5]\n",
      " [ 6  7  8  9 10]\n",
      " [11 12 13 14 15]\n",
      " [16 17 18 19 20]]\n",
      "[[ 3  4  5]\n",
      " [ 8  9 10]\n",
      " [18 19 20]]\n",
      "[[ 1  2  3  4  5]\n",
      " [ 6  7  8  9 10]]\n",
      "[ 7 14]\n",
      "[17 13 10]\n"
     ]
    }
   ],
   "source": [
    "# 팬시 인덱싱\n",
    "\n",
    "ndarray1 = np.arange(start=1, stop=21)\n",
    "ndarray2 = ndarray1.reshape(4,5)\n",
    "print(ndarray2)\n",
    "\n",
    "\n",
    "print(ndarray2[[0,1, 3], 2:5])\n",
    "\n",
    "print(ndarray2[[0,1]])\n",
    "\n",
    "# ndarray2[[a, b], [c, d]] : a행 c열 값, b행 d열 값, 무조건 1차원 배열\n",
    "print(ndarray2[[1, 2], [1, 3]])\n",
    "print(ndarray2[[3, 2, 1], [1, 2, 4]])"
   ]
  },
  {
   "cell_type": "code",
   "execution_count": 36,
   "id": "b6c24fb5",
   "metadata": {},
   "outputs": [
    {
     "name": "stdout",
     "output_type": "stream",
     "text": [
      "[1 2 3 4 5 6 7 8 9]\n",
      "[False  True False  True False  True False  True False]\n",
      "[2 4 6 8]\n"
     ]
    }
   ],
   "source": [
    "# 불린 인덱싱\n",
    "\n",
    "ndarray1 = np.arange(start=1, stop=10)\n",
    "print(ndarray1)\n",
    "print(ndarray1 % 2 == 0)\n",
    "\n",
    "ndarray1 = ndarray1[ndarray1 % 2 == 0]\n",
    "print(ndarray1)"
   ]
  },
  {
   "cell_type": "markdown",
   "id": "10a5a825",
   "metadata": {},
   "source": [
    "### 정렬\n",
    "> 모두 오름차순 정렬이며, 내림차순은 오름차순 정렬 후 [::-1]을 붙여 사용한다.  \n",
    "\n",
    "1. np.sort(ndarray)\n",
    "> 전달한 기존 행렬은 그대로 놔둔 채 새롭게 정렬된 행렬을 리턴한다.\n",
    "\n",
    "2. np.sort(ndarray, axis=n)\n",
    "> 전달한 축(axis)을 기준으로 정렬한다.\n",
    "\n",
    "3. ndarray.sort()\n",
    "> 기존 행렬을 정렬하며 리턴은 없다.  \n",
    "\n",
    "4. np.argsort(ndarray)\n",
    "> 요소를 정렬하고 나서 정렬된 요소의 원래 인덱스(정렬 전 인덱스)를 리턴한다.  \n",
    "> numpy로 데이터 분석 시 array의 인덱스를 key(컬럼)로 사용할 경우 argsort()가 사용된다(정렬 후 어떤 컬럼인지 알아내기 위해)."
   ]
  },
  {
   "cell_type": "code",
   "execution_count": 37,
   "id": "d24f9022",
   "metadata": {},
   "outputs": [
    {
     "name": "stdout",
     "output_type": "stream",
     "text": [
      "원본 배열: [0 4 2 5]\n",
      "정렬된 배열: [0 2 4 5]\n"
     ]
    }
   ],
   "source": [
    "# np.sort(ndarray)\n",
    "\n",
    "original_ndarray = np.array([0, 4, 2, 5]) \n",
    "\n",
    "sorted_ndarray = np.sort(original_ndarray)         \n",
    "print('원본 배열:', original_ndarray)\n",
    "print('정렬된 배열:', sorted_ndarray)"
   ]
  },
  {
   "cell_type": "code",
   "execution_count": 38,
   "id": "22985431",
   "metadata": {},
   "outputs": [
    {
     "name": "stdout",
     "output_type": "stream",
     "text": [
      "원본\n",
      "[[20 18 16 14 12]\n",
      " [10  8  6  4  2]]\n",
      "axis0 정렬\n",
      "[[10  8  6  4  2]\n",
      " [20 18 16 14 12]]\n",
      "axis1 정렬\n",
      "[[12 14 16 18 20]\n",
      " [ 2  4  6  8 10]]\n"
     ]
    }
   ],
   "source": [
    "# np.sort(ndarray, axis=n)\n",
    "\n",
    "ndarray1 = np.array([i for i in range(20, 0, -2)])\n",
    "ndarray2 = ndarray1.reshape(2, -1)\n",
    "print(\"원본\", ndarray2, sep=\"\\n\")\n",
    "\n",
    "sorted_ndarray_axis0 = np.sort(ndarray2, axis=0)\n",
    "print(\"axis0 정렬\\n{}\".format(sorted_ndarray_axis0))\n",
    "\n",
    "sorted_ndarray_axis1 = np.sort(ndarray2, axis=1)\n",
    "print(\"axis1 정렬\\n{}\".format(sorted_ndarray_axis1))"
   ]
  },
  {
   "cell_type": "code",
   "execution_count": 39,
   "id": "fe48210f",
   "metadata": {},
   "outputs": [
    {
     "name": "stdout",
     "output_type": "stream",
     "text": [
      "원본 배열: [0 1 2 4]\n",
      "내림 차순: [4 2 1 0]\n"
     ]
    }
   ],
   "source": [
    "# ndarray.sort()\n",
    "\n",
    "original_ndarray = np.array([1, 2, 0, 4]) \n",
    "original_ndarray.sort()\n",
    "\n",
    "print('원본 배열:', original_ndarray)\n",
    "\n",
    "sorted_ndarray = original_ndarray[::-1]\n",
    "print('내림 차순:', sorted_ndarray)"
   ]
  },
  {
   "cell_type": "code",
   "execution_count": 40,
   "id": "b69151dc",
   "metadata": {},
   "outputs": [
    {
     "name": "stdout",
     "output_type": "stream",
     "text": [
      "정렬 후 원래 인덱스: [0 2 1 3] <class 'numpy.ndarray'>\n",
      "정렬 후 원래 인덱스: [3 1 2 0] <class 'numpy.ndarray'>\n"
     ]
    }
   ],
   "source": [
    "# np.argsort(ndarray)\n",
    "\n",
    "original_ndarray = np.array([0, 3, 2, 6]) \n",
    "sorted_indexes = np.argsort(original_ndarray)\n",
    "print('정렬 후 원래 인덱스:', sorted_indexes, type(sorted_indexes))\n",
    "\n",
    "sorted_indexes_desc = sorted_indexes[::-1]\n",
    "print('정렬 후 원래 인덱스:', sorted_indexes_desc, type(sorted_indexes_desc))"
   ]
  },
  {
   "cell_type": "code",
   "execution_count": 41,
   "id": "9ba75115",
   "metadata": {},
   "outputs": [
    {
     "name": "stdout",
     "output_type": "stream",
     "text": [
      "정렬 후 zeroTo100 인덱스: [0 1 3 2 4]\n",
      "정렬 된 인덱스로 자동차 조회: ['Lamborghini' 'Mclaren' 'Bentley' 'Benz' 'The New Morning']\n"
     ]
    }
   ],
   "source": [
    "cars = np.array(['Lamborghini', 'Mclaren', 'Benz', 'Bentley', 'The New Morning'])\n",
    "zeroTo100 = np.array([2.8, 2.9, 5.2, 3.7, 13.5])\n",
    "\n",
    "sorted_indexes = np.argsort(zeroTo100)\n",
    "print('정렬 후 zeroTo100 인덱스:', sorted_indexes)\n",
    "print('정렬 된 인덱스로 자동차 조회:', cars[sorted_indexes])"
   ]
  },
  {
   "cell_type": "markdown",
   "id": "64fccd43",
   "metadata": {},
   "source": [
    "### Task"
   ]
  },
  {
   "cell_type": "code",
   "execution_count": 50,
   "id": "743d3511",
   "metadata": {},
   "outputs": [],
   "source": [
    "import numpy as np\n",
    "# 데이터를 분석하여, 각 수치별 오름차순 및 내림차순 후 이름을 출력하세요.\n",
    "# ndarray.ravel(): 2차원 넘파이 배열을 1차원 넘파이 배열로 변경(mutable)\n",
    "# ndarray.flatten(): 2차원 넘파이 배열을 1차원 넘파이 배열로 변경(immutable)\n",
    "\n",
    "# [[과일이름], [가격]], 가격별 내림차순\n",
    "array1 = [['Mango', 'Apple', 'Pear', 'Pitch', 'Melon'], [1500, 1800, 2000, 2500, 8500]]\n",
    "\n",
    "# [[이름], [나이], [학점]], 나이별 내림차순, 학점별 오름차순\n",
    "array2 = [['둘리', '또치', '길동', '도너', '마이콜'], [7, 9, 40, 5, 20], ['C', 'A', 'B', 'F', 'D']]\n",
    "\n",
    "# [[국가이름], [GDP 성장률]], GDP 성장률별 오름차순\n",
    "array3 = [['영국', '러시아', '남아프리카 공화국', '미국', '한국'], ['-0.6%', '0.3%', '1.2%', '1.4%', '1.7%']]"
   ]
  },
  {
   "cell_type": "code",
   "execution_count": 43,
   "id": "ff1299b6",
   "metadata": {},
   "outputs": [
    {
     "name": "stdout",
     "output_type": "stream",
     "text": [
      "['Mango' 'Apple' 'Pear' 'Pitch' 'Melon'] ['1500' '1800' '2000' '2500' '8500']\n",
      "['Melon' 'Pitch' 'Pear' 'Apple' 'Mango']\n"
     ]
    }
   ],
   "source": [
    "# [[과일이름], [가격]], 가격별 내림차순\n",
    "array1 = [['Mango', 'Apple', 'Pear', 'Pitch', 'Melon'], [1500, 1800, 2000, 2500, 8500]]\n",
    "ndarray = np.array(array1)\n",
    "\n",
    "# fruit_names = ndarray[:1].ravel()\n",
    "# fruit_names[0] = 'hi'\n",
    "# print(ndarray)\n",
    "\n",
    "fruit_names = ndarray[:1].flatten()\n",
    "fruit_prices = ndarray[1:2].flatten()\n",
    "print(fruit_names, fruit_prices)\n",
    "\n",
    "fruit_names_sorted_by_prices = fruit_names[np.argsort(fruit_prices)[::-1]]\n",
    "print(fruit_names_sorted_by_prices)"
   ]
  },
  {
   "cell_type": "code",
   "execution_count": 44,
   "id": "6ab14bba",
   "metadata": {},
   "outputs": [
    {
     "name": "stdout",
     "output_type": "stream",
     "text": [
      "['둘리' '또치' '길동' '도너' '마이콜']\n",
      "[ 7  9 40  5 20]\n",
      "['C' 'A' 'B' 'F' 'D']\n",
      "['길동' '마이콜' '또치' '둘리' '도너']\n",
      "['또치' '길동' '둘리' '마이콜' '도너']\n"
     ]
    }
   ],
   "source": [
    "# [[이름], [나이], [학점]], 나이별 내림차순, 학점별 오름차순\n",
    "array2 = [['둘리', '또치', '길동', '도너', '마이콜'], [7, 9, 40, 5, 20], ['C', 'A', 'B', 'F', 'D']]\n",
    "ndarray = np.array(array2)\n",
    "\n",
    "names = ndarray[:1].flatten()\n",
    "# ages = np.array(ndarray[1:2].flatten(), dtype=np.int32)\n",
    "ages = ndarray[1:2].flatten().astype(np.int32)\n",
    "grades = ndarray[2:3].flatten()\n",
    "print(names, ages, grades, sep=\"\\n\")\n",
    "\n",
    "names_sorted_by_ages = names[np.argsort(ages)[::-1]]\n",
    "print(names_sorted_by_ages)\n",
    "\n",
    "names_sorted_by_grades = names[np.argsort(grades)]\n",
    "print(names_sorted_by_grades)"
   ]
  },
  {
   "cell_type": "code",
   "execution_count": 45,
   "id": "d06f7812",
   "metadata": {},
   "outputs": [
    {
     "name": "stdout",
     "output_type": "stream",
     "text": [
      "['영국' '러시아' '남아프리카 공화국' '미국' '한국'] [ 0.3 -0.6  1.4  1.2  1.7]\n",
      "['러시아' '영국' '미국' '남아프리카 공화국' '한국']\n"
     ]
    }
   ],
   "source": [
    "# [[국가이름], [GDP 성장률]], GDP 성장률별 오름차순\n",
    "array3 = [['영국', '러시아', '남아프리카 공화국', '미국', '한국'], ['0.3%', '-0.6%', '1.4%', '1.2%', '1.7%']]\n",
    "ndarray = np.array(array3)\n",
    "\n",
    "nations = ndarray[:1].flatten()\n",
    "\n",
    "increase_ratings_of_GDP = []\n",
    "increase_ratings_of_GDP_data = ndarray[1:2].flatten()\n",
    "\n",
    "for i in increase_ratings_of_GDP_data:\n",
    "    increase_ratings_of_GDP.append(i.replace('%', ''))\n",
    "\n",
    "increase_ratings_of_GDP = np.array(increase_ratings_of_GDP, dtype=np.float32)\n",
    "    \n",
    "print(nations, increase_ratings_of_GDP)\n",
    "\n",
    "print(nations[np.argsort(increase_ratings_of_GDP)])"
   ]
  },
  {
   "cell_type": "markdown",
   "id": "f3b3dfc0",
   "metadata": {},
   "source": [
    "### 선형대수\n",
    "- 전치 행렬\n",
    "> 행과 열을 반대로 바꾸는 작업.\n",
    "- 행렬 내적\n",
    "> 행렬끼리 연산을 수행하는 작업.\n",
    "- 역행렬\n",
    "> 행렬의 역수  \n",
    "> 역수란, 곱셈에 대한 항등원인 1이 나오게 하는 수이며, A행렬의 역수는 A<sup>-1</sup>로 표기한다.\n",
    "\n",
    "#### 📌연립 방정식을 쉽게 정리하고 풀기 위해 나온 것이 선형대수이다.\n",
    "#### k = [[k<sub>1</sub>], [k<sub>2</sub>]], A = [[x<sub>1</sub>, x<sub>2</sub>], [y<sub>1</sub>, y<sub>2</sub>]], w = [[w<sub>1</sub>], [w<sub>2</sub>]]\n",
    "> #### 1. k<sub>1</sub> = x<sub>1</sub>w<sub>1</sub> + x<sub>2</sub>w<sub>2</sub>\n",
    "> #### 2. k<sub>2</sub> = y<sub>1</sub>w<sub>1</sub> + y<sub>2</sub>w<sub>2</sub>\n",
    "> #### 3. k = Aw\n",
    "#### 위와 같이 선형대수를 사용하면, 최소한의 타이핑으로 대량의 데이터를 쉽게 계산할 수 있게 된다."
   ]
  },
  {
   "cell_type": "code",
   "execution_count": 46,
   "id": "9fe2e837",
   "metadata": {},
   "outputs": [
    {
     "name": "stdout",
     "output_type": "stream",
     "text": [
      "[[1 2]\n",
      " [3 4]]\n",
      "[[5]\n",
      " [6]]\n",
      "===============\n",
      "[[17]\n",
      " [39]]\n"
     ]
    }
   ],
   "source": [
    "A = np.array([1, 2, 3, 4]).reshape(2, 2)\n",
    "w = np.array([5, 6]).reshape(2, 1)\n",
    "print(A)\n",
    "print(w)\n",
    "print(\"===============\")\n",
    "print(np.dot(A, w))"
   ]
  },
  {
   "cell_type": "code",
   "execution_count": 47,
   "id": "cbc921c0",
   "metadata": {},
   "outputs": [
    {
     "name": "stdout",
     "output_type": "stream",
     "text": [
      "[[1 2]\n",
      " [3 4]]\n",
      "\n",
      "[[1 3]\n",
      " [2 4]]\n",
      "=============================\n",
      "[[ 1  2  3  4  5  6  7  8]\n",
      " [ 9 10 11 12 13 14 15 16]\n",
      " [17 18 19 20 21 22 23 24]\n",
      " [25 26 27 28 29 30 31 32]]\n",
      "\n",
      "[[ 1  9 17 25]\n",
      " [ 2 10 18 26]\n",
      " [ 3 11 19 27]\n",
      " [ 4 12 20 28]\n",
      " [ 5 13 21 29]\n",
      " [ 6 14 22 30]\n",
      " [ 7 15 23 31]\n",
      " [ 8 16 24 32]]\n"
     ]
    }
   ],
   "source": [
    "# 전치 행렬\n",
    "ndarray1 = np.arange(1, 5).reshape(2, 2)\n",
    "ndarray1_T = ndarray1.T\n",
    "print(ndarray1, ndarray1_T, sep=\"\\n\\n\")\n",
    "print(\"=============================\")\n",
    "ndarray2 = np.arange(1, 33).reshape(4, -1)\n",
    "ndarray2_T = ndarray2.T\n",
    "print(ndarray2, ndarray2_T, sep=\"\\n\\n\")"
   ]
  },
  {
   "cell_type": "code",
   "execution_count": 48,
   "id": "ca7116e3",
   "metadata": {},
   "outputs": [
    {
     "name": "stdout",
     "output_type": "stream",
     "text": [
      "[[ 58  64]\n",
      " [139 154]]\n"
     ]
    }
   ],
   "source": [
    "# 행렬 내적\n",
    "ndarray1 = np.array([[1, 2, 3],\n",
    "              [4, 5, 6]])\n",
    "ndarray2 = np.array([[7, 8],\n",
    "              [9, 10],\n",
    "              [11, 12]])\n",
    "\n",
    "result = np.dot(ndarray1, ndarray2)\n",
    "print(result)"
   ]
  },
  {
   "cell_type": "markdown",
   "id": "9d29c91a",
   "metadata": {},
   "source": [
    "### Task"
   ]
  },
  {
   "cell_type": "code",
   "execution_count": 55,
   "id": "fb60ff6f",
   "metadata": {},
   "outputs": [
    {
     "name": "stdout",
     "output_type": "stream",
     "text": [
      "[[1 2 3]\n",
      " [1 2 1]\n",
      " [1 0 3]]\n",
      "\n",
      "[[1]\n",
      " [3]\n",
      " [5]]\n",
      "[[ 8.]\n",
      " [-2.]\n",
      " [-1.]]\n"
     ]
    }
   ],
   "source": [
    "# 다음 연립방정식을 전치 행렬과 행렬 내적 \n",
    "# 그리고 역행렬(np.linalg.inv())을 통해 해결하세요.\n",
    "\n",
    "# x + 2y + 3z = 1\n",
    "# x + 2y + z = 3\n",
    "# x + 3z = 5\n",
    "\n",
    "A = np.array([[1, 2, 3], [1, 2, 1], [1, 0, 3]])\n",
    "k = np.array([[1, 3, 5]]).T\n",
    "print(A, k, sep=\"\\n\\n\")\n",
    "print(np.dot(np.linalg.inv(A), k))"
   ]
  }
 ],
 "metadata": {
  "kernelspec": {
   "display_name": "Python 3 (ipykernel)",
   "language": "python",
   "name": "python3"
  },
  "language_info": {
   "codemirror_mode": {
    "name": "ipython",
    "version": 3
   },
   "file_extension": ".py",
   "mimetype": "text/x-python",
   "name": "python",
   "nbconvert_exporter": "python",
   "pygments_lexer": "ipython3",
   "version": "3.11.5"
  }
 },
 "nbformat": 4,
 "nbformat_minor": 5
}
