{
 "cells": [
  {
   "cell_type": "markdown",
   "id": "4623df58",
   "metadata": {},
   "source": [
    "### RFM 분석\n",
    "####  사용자별로 얼마나 최근에, 얼마나 자주, 얼마나 많은 금액을 지출했는지에 따라 사용자들의 분포를 확인할 수 있고, 사용자 그룹(또는 등급)을 나누어 분류하는 분석 기법이다. 구매 가능성이 높은 고객을 선정할 때 용이한 데이터 분석 방법이며, 사용자들의 평소 구매 패턴을 기준으로 분류를 진행하기 때문에 각 사용자 그룹의 특성에 따라 차별화된 마케팅 메세지를 전달할 수 있다.\n",
    "\n",
    "- Recency : 얼마나 최근에 구매했는가\n",
    "- Frequency : 얼마나 자주 구매했는가\n",
    "- Monetary : 얼마나 많은 금액을 지출했는가"
   ]
  },
  {
   "cell_type": "markdown",
   "id": "e0ba59b5",
   "metadata": {},
   "source": [
    "### 고객 분석\n",
    "- CustomerID: 고객 번호\n",
    "- PurchaseDate: 구매 날짜\n",
    "- TransactionAmount: 결제 금액 \n",
    "- ProductInformation: 상품 정보\n",
    "- OrderID: 주문 번호\n",
    "- Location: 주문 지역"
   ]
  },
  {
   "cell_type": "code",
   "execution_count": 208,
   "id": "32e5b262",
   "metadata": {
    "scrolled": true
   },
   "outputs": [
    {
     "data": {
      "text/html": [
       "<div>\n",
       "<style scoped>\n",
       "    .dataframe tbody tr th:only-of-type {\n",
       "        vertical-align: middle;\n",
       "    }\n",
       "\n",
       "    .dataframe tbody tr th {\n",
       "        vertical-align: top;\n",
       "    }\n",
       "\n",
       "    .dataframe thead th {\n",
       "        text-align: right;\n",
       "    }\n",
       "</style>\n",
       "<table border=\"1\" class=\"dataframe\">\n",
       "  <thead>\n",
       "    <tr style=\"text-align: right;\">\n",
       "      <th></th>\n",
       "      <th>CustomerID</th>\n",
       "      <th>PurchaseDate</th>\n",
       "      <th>TransactionAmount</th>\n",
       "      <th>ProductInformation</th>\n",
       "      <th>OrderID</th>\n",
       "      <th>Location</th>\n",
       "    </tr>\n",
       "  </thead>\n",
       "  <tbody>\n",
       "    <tr>\n",
       "      <th>0</th>\n",
       "      <td>8814</td>\n",
       "      <td>2023-04-11</td>\n",
       "      <td>943.31</td>\n",
       "      <td>Product C</td>\n",
       "      <td>890075</td>\n",
       "      <td>Tokyo</td>\n",
       "    </tr>\n",
       "    <tr>\n",
       "      <th>1</th>\n",
       "      <td>2188</td>\n",
       "      <td>2023-04-11</td>\n",
       "      <td>463.70</td>\n",
       "      <td>Product A</td>\n",
       "      <td>176819</td>\n",
       "      <td>London</td>\n",
       "    </tr>\n",
       "    <tr>\n",
       "      <th>2</th>\n",
       "      <td>4608</td>\n",
       "      <td>2023-04-11</td>\n",
       "      <td>80.28</td>\n",
       "      <td>Product A</td>\n",
       "      <td>340062</td>\n",
       "      <td>New York</td>\n",
       "    </tr>\n",
       "    <tr>\n",
       "      <th>3</th>\n",
       "      <td>2559</td>\n",
       "      <td>2023-04-11</td>\n",
       "      <td>221.29</td>\n",
       "      <td>Product A</td>\n",
       "      <td>239145</td>\n",
       "      <td>London</td>\n",
       "    </tr>\n",
       "    <tr>\n",
       "      <th>4</th>\n",
       "      <td>9482</td>\n",
       "      <td>2023-04-11</td>\n",
       "      <td>739.56</td>\n",
       "      <td>Product A</td>\n",
       "      <td>194545</td>\n",
       "      <td>Paris</td>\n",
       "    </tr>\n",
       "    <tr>\n",
       "      <th>...</th>\n",
       "      <td>...</td>\n",
       "      <td>...</td>\n",
       "      <td>...</td>\n",
       "      <td>...</td>\n",
       "      <td>...</td>\n",
       "      <td>...</td>\n",
       "    </tr>\n",
       "    <tr>\n",
       "      <th>995</th>\n",
       "      <td>2970</td>\n",
       "      <td>2023-06-10</td>\n",
       "      <td>759.62</td>\n",
       "      <td>Product B</td>\n",
       "      <td>275284</td>\n",
       "      <td>London</td>\n",
       "    </tr>\n",
       "    <tr>\n",
       "      <th>996</th>\n",
       "      <td>6669</td>\n",
       "      <td>2023-06-10</td>\n",
       "      <td>941.50</td>\n",
       "      <td>Product C</td>\n",
       "      <td>987025</td>\n",
       "      <td>New York</td>\n",
       "    </tr>\n",
       "    <tr>\n",
       "      <th>997</th>\n",
       "      <td>8836</td>\n",
       "      <td>2023-06-10</td>\n",
       "      <td>545.36</td>\n",
       "      <td>Product C</td>\n",
       "      <td>512842</td>\n",
       "      <td>London</td>\n",
       "    </tr>\n",
       "    <tr>\n",
       "      <th>998</th>\n",
       "      <td>1440</td>\n",
       "      <td>2023-06-10</td>\n",
       "      <td>729.94</td>\n",
       "      <td>Product B</td>\n",
       "      <td>559753</td>\n",
       "      <td>Paris</td>\n",
       "    </tr>\n",
       "    <tr>\n",
       "      <th>999</th>\n",
       "      <td>4759</td>\n",
       "      <td>2023-06-10</td>\n",
       "      <td>804.28</td>\n",
       "      <td>Product D</td>\n",
       "      <td>467544</td>\n",
       "      <td>New York</td>\n",
       "    </tr>\n",
       "  </tbody>\n",
       "</table>\n",
       "<p>1000 rows × 6 columns</p>\n",
       "</div>"
      ],
      "text/plain": [
       "     CustomerID PurchaseDate  TransactionAmount ProductInformation  OrderID  \\\n",
       "0          8814   2023-04-11             943.31          Product C   890075   \n",
       "1          2188   2023-04-11             463.70          Product A   176819   \n",
       "2          4608   2023-04-11              80.28          Product A   340062   \n",
       "3          2559   2023-04-11             221.29          Product A   239145   \n",
       "4          9482   2023-04-11             739.56          Product A   194545   \n",
       "..          ...          ...                ...                ...      ...   \n",
       "995        2970   2023-06-10             759.62          Product B   275284   \n",
       "996        6669   2023-06-10             941.50          Product C   987025   \n",
       "997        8836   2023-06-10             545.36          Product C   512842   \n",
       "998        1440   2023-06-10             729.94          Product B   559753   \n",
       "999        4759   2023-06-10             804.28          Product D   467544   \n",
       "\n",
       "     Location  \n",
       "0       Tokyo  \n",
       "1      London  \n",
       "2    New York  \n",
       "3      London  \n",
       "4       Paris  \n",
       "..        ...  \n",
       "995    London  \n",
       "996  New York  \n",
       "997    London  \n",
       "998     Paris  \n",
       "999  New York  \n",
       "\n",
       "[1000 rows x 6 columns]"
      ]
     },
     "execution_count": 208,
     "metadata": {},
     "output_type": "execute_result"
    }
   ],
   "source": [
    "import pandas as pd\n",
    "path = './datasets/customer_order_data.csv'\n",
    "customer_order_df = pd.read_csv(path)\n",
    "customer_order_df\n",
    "# customer_order_df.sort_values('CustomerID')"
   ]
  },
  {
   "cell_type": "code",
   "execution_count": 209,
   "id": "f8799661",
   "metadata": {},
   "outputs": [
    {
     "name": "stdout",
     "output_type": "stream",
     "text": [
      "<class 'pandas.core.frame.DataFrame'>\n",
      "RangeIndex: 1000 entries, 0 to 999\n",
      "Data columns (total 6 columns):\n",
      " #   Column              Non-Null Count  Dtype  \n",
      "---  ------              --------------  -----  \n",
      " 0   CustomerID          1000 non-null   int64  \n",
      " 1   PurchaseDate        1000 non-null   object \n",
      " 2   TransactionAmount   1000 non-null   float64\n",
      " 3   ProductInformation  1000 non-null   object \n",
      " 4   OrderID             1000 non-null   int64  \n",
      " 5   Location            1000 non-null   object \n",
      "dtypes: float64(1), int64(2), object(3)\n",
      "memory usage: 47.0+ KB\n"
     ]
    }
   ],
   "source": [
    "customer_order_df.info()"
   ]
  },
  {
   "cell_type": "markdown",
   "id": "5a111a9e",
   "metadata": {},
   "source": [
    "### 결측치 검사\n",
    "📌결측치: 값이 없는 것, Null 또는 NA로 표현."
   ]
  },
  {
   "cell_type": "code",
   "execution_count": 210,
   "id": "dd56a208",
   "metadata": {},
   "outputs": [
    {
     "data": {
      "text/plain": [
       "CustomerID            0\n",
       "PurchaseDate          0\n",
       "TransactionAmount     0\n",
       "ProductInformation    0\n",
       "OrderID               0\n",
       "Location              0\n",
       "dtype: int64"
      ]
     },
     "execution_count": 210,
     "metadata": {},
     "output_type": "execute_result"
    }
   ],
   "source": [
    "customer_order_df.isnull().sum()"
   ]
  },
  {
   "cell_type": "markdown",
   "id": "72015cc5",
   "metadata": {},
   "source": [
    "### 중복 행 검사"
   ]
  },
  {
   "cell_type": "code",
   "execution_count": 211,
   "id": "4ee8c5af",
   "metadata": {
    "scrolled": true
   },
   "outputs": [
    {
     "data": {
      "text/plain": [
       "0"
      ]
     },
     "execution_count": 211,
     "metadata": {},
     "output_type": "execute_result"
    }
   ],
   "source": [
    "customer_order_df.duplicated().sum()"
   ]
  },
  {
   "cell_type": "markdown",
   "id": "261b6fa9",
   "metadata": {},
   "source": [
    "### 데이터 전처리\n",
    "1. R 동일한 고객중 Recency값이 제일 높은걸 추출하기\n",
    "2. F 데이터중 동일한 고객ID 갯수를 구하여 추출\n",
    "3. M 데이터중 동일한 고객 결제금액을 더하여 추출\n"
   ]
  },
  {
   "cell_type": "code",
   "execution_count": 212,
   "id": "88487c01",
   "metadata": {
    "scrolled": true
   },
   "outputs": [
    {
     "data": {
      "text/html": [
       "<div>\n",
       "<style scoped>\n",
       "    .dataframe tbody tr th:only-of-type {\n",
       "        vertical-align: middle;\n",
       "    }\n",
       "\n",
       "    .dataframe tbody tr th {\n",
       "        vertical-align: top;\n",
       "    }\n",
       "\n",
       "    .dataframe thead th {\n",
       "        text-align: right;\n",
       "    }\n",
       "</style>\n",
       "<table border=\"1\" class=\"dataframe\">\n",
       "  <thead>\n",
       "    <tr style=\"text-align: right;\">\n",
       "      <th></th>\n",
       "      <th>CustomerID</th>\n",
       "      <th>PurchaseDate</th>\n",
       "      <th>Recency</th>\n",
       "    </tr>\n",
       "  </thead>\n",
       "  <tbody>\n",
       "    <tr>\n",
       "      <th>0</th>\n",
       "      <td>1011</td>\n",
       "      <td>2023-05-08</td>\n",
       "      <td>149</td>\n",
       "    </tr>\n",
       "    <tr>\n",
       "      <th>1</th>\n",
       "      <td>1025</td>\n",
       "      <td>2023-05-20</td>\n",
       "      <td>137</td>\n",
       "    </tr>\n",
       "    <tr>\n",
       "      <th>2</th>\n",
       "      <td>1029</td>\n",
       "      <td>2023-06-10</td>\n",
       "      <td>116</td>\n",
       "    </tr>\n",
       "    <tr>\n",
       "      <th>3</th>\n",
       "      <td>1046</td>\n",
       "      <td>2023-04-28</td>\n",
       "      <td>159</td>\n",
       "    </tr>\n",
       "    <tr>\n",
       "      <th>4</th>\n",
       "      <td>1049</td>\n",
       "      <td>2023-05-28</td>\n",
       "      <td>129</td>\n",
       "    </tr>\n",
       "    <tr>\n",
       "      <th>...</th>\n",
       "      <td>...</td>\n",
       "      <td>...</td>\n",
       "      <td>...</td>\n",
       "    </tr>\n",
       "    <tr>\n",
       "      <th>941</th>\n",
       "      <td>9941</td>\n",
       "      <td>2023-04-29</td>\n",
       "      <td>158</td>\n",
       "    </tr>\n",
       "    <tr>\n",
       "      <th>942</th>\n",
       "      <td>9950</td>\n",
       "      <td>2023-05-03</td>\n",
       "      <td>154</td>\n",
       "    </tr>\n",
       "    <tr>\n",
       "      <th>943</th>\n",
       "      <td>9954</td>\n",
       "      <td>2023-05-29</td>\n",
       "      <td>128</td>\n",
       "    </tr>\n",
       "    <tr>\n",
       "      <th>944</th>\n",
       "      <td>9985</td>\n",
       "      <td>2023-04-14</td>\n",
       "      <td>173</td>\n",
       "    </tr>\n",
       "    <tr>\n",
       "      <th>945</th>\n",
       "      <td>9991</td>\n",
       "      <td>2023-05-11</td>\n",
       "      <td>146</td>\n",
       "    </tr>\n",
       "  </tbody>\n",
       "</table>\n",
       "<p>946 rows × 3 columns</p>\n",
       "</div>"
      ],
      "text/plain": [
       "     CustomerID PurchaseDate  Recency\n",
       "0          1011   2023-05-08      149\n",
       "1          1025   2023-05-20      137\n",
       "2          1029   2023-06-10      116\n",
       "3          1046   2023-04-28      159\n",
       "4          1049   2023-05-28      129\n",
       "..          ...          ...      ...\n",
       "941        9941   2023-04-29      158\n",
       "942        9950   2023-05-03      154\n",
       "943        9954   2023-05-29      128\n",
       "944        9985   2023-04-14      173\n",
       "945        9991   2023-05-11      146\n",
       "\n",
       "[946 rows x 3 columns]"
      ]
     },
     "execution_count": 212,
     "metadata": {},
     "output_type": "execute_result"
    }
   ],
   "source": [
    "#1. R 동일한 고객중 Recency값이 제일 높은걸 추출하기\n",
    "\n",
    "rfm_customer_order_df = customer_order_df.groupby('CustomerID')['PurchaseDate'].max().reset_index()\n",
    "today = '2023-10-04'\n",
    "today = pd.to_datetime(today)\n",
    "\n",
    "rfm_customer_order_df['Recency'] = today - pd.to_datetime(rfm_customer_order_df['PurchaseDate'])\n",
    "rfm_customer_order_df['Recency'] = rfm_customer_order_df['Recency'].astype('int64') // 1000000000 // 60 // 60 // 24\n",
    "rfm_customer_order_df\n",
    "\n"
   ]
  },
  {
   "cell_type": "code",
   "execution_count": 213,
   "id": "892fea9a",
   "metadata": {
    "scrolled": false
   },
   "outputs": [
    {
     "data": {
      "text/html": [
       "<div>\n",
       "<style scoped>\n",
       "    .dataframe tbody tr th:only-of-type {\n",
       "        vertical-align: middle;\n",
       "    }\n",
       "\n",
       "    .dataframe tbody tr th {\n",
       "        vertical-align: top;\n",
       "    }\n",
       "\n",
       "    .dataframe thead th {\n",
       "        text-align: right;\n",
       "    }\n",
       "</style>\n",
       "<table border=\"1\" class=\"dataframe\">\n",
       "  <thead>\n",
       "    <tr style=\"text-align: right;\">\n",
       "      <th></th>\n",
       "      <th>CustomerID</th>\n",
       "      <th>PurchaseDate</th>\n",
       "      <th>Recency</th>\n",
       "      <th>Frequency</th>\n",
       "    </tr>\n",
       "  </thead>\n",
       "  <tbody>\n",
       "    <tr>\n",
       "      <th>0</th>\n",
       "      <td>1011</td>\n",
       "      <td>2023-05-08</td>\n",
       "      <td>149</td>\n",
       "      <td>2</td>\n",
       "    </tr>\n",
       "    <tr>\n",
       "      <th>1</th>\n",
       "      <td>1025</td>\n",
       "      <td>2023-05-20</td>\n",
       "      <td>137</td>\n",
       "      <td>1</td>\n",
       "    </tr>\n",
       "    <tr>\n",
       "      <th>2</th>\n",
       "      <td>1029</td>\n",
       "      <td>2023-06-10</td>\n",
       "      <td>116</td>\n",
       "      <td>1</td>\n",
       "    </tr>\n",
       "    <tr>\n",
       "      <th>3</th>\n",
       "      <td>1046</td>\n",
       "      <td>2023-04-28</td>\n",
       "      <td>159</td>\n",
       "      <td>1</td>\n",
       "    </tr>\n",
       "    <tr>\n",
       "      <th>4</th>\n",
       "      <td>1049</td>\n",
       "      <td>2023-05-28</td>\n",
       "      <td>129</td>\n",
       "      <td>1</td>\n",
       "    </tr>\n",
       "    <tr>\n",
       "      <th>...</th>\n",
       "      <td>...</td>\n",
       "      <td>...</td>\n",
       "      <td>...</td>\n",
       "      <td>...</td>\n",
       "    </tr>\n",
       "    <tr>\n",
       "      <th>941</th>\n",
       "      <td>9941</td>\n",
       "      <td>2023-04-29</td>\n",
       "      <td>158</td>\n",
       "      <td>1</td>\n",
       "    </tr>\n",
       "    <tr>\n",
       "      <th>942</th>\n",
       "      <td>9950</td>\n",
       "      <td>2023-05-03</td>\n",
       "      <td>154</td>\n",
       "      <td>1</td>\n",
       "    </tr>\n",
       "    <tr>\n",
       "      <th>943</th>\n",
       "      <td>9954</td>\n",
       "      <td>2023-05-29</td>\n",
       "      <td>128</td>\n",
       "      <td>1</td>\n",
       "    </tr>\n",
       "    <tr>\n",
       "      <th>944</th>\n",
       "      <td>9985</td>\n",
       "      <td>2023-04-14</td>\n",
       "      <td>173</td>\n",
       "      <td>1</td>\n",
       "    </tr>\n",
       "    <tr>\n",
       "      <th>945</th>\n",
       "      <td>9991</td>\n",
       "      <td>2023-05-11</td>\n",
       "      <td>146</td>\n",
       "      <td>1</td>\n",
       "    </tr>\n",
       "  </tbody>\n",
       "</table>\n",
       "<p>946 rows × 4 columns</p>\n",
       "</div>"
      ],
      "text/plain": [
       "     CustomerID PurchaseDate  Recency  Frequency\n",
       "0          1011   2023-05-08      149          2\n",
       "1          1025   2023-05-20      137          1\n",
       "2          1029   2023-06-10      116          1\n",
       "3          1046   2023-04-28      159          1\n",
       "4          1049   2023-05-28      129          1\n",
       "..          ...          ...      ...        ...\n",
       "941        9941   2023-04-29      158          1\n",
       "942        9950   2023-05-03      154          1\n",
       "943        9954   2023-05-29      128          1\n",
       "944        9985   2023-04-14      173          1\n",
       "945        9991   2023-05-11      146          1\n",
       "\n",
       "[946 rows x 4 columns]"
      ]
     },
     "execution_count": 213,
     "metadata": {},
     "output_type": "execute_result"
    }
   ],
   "source": [
    "# F 데이터중 동일한 고객ID 갯 수를 구하여 추출\n",
    "\n",
    "customer_order_df['Frequency'] = customer_order_df.value_counts('CustomerID')\n",
    "rfm_customer_order_df[\"Frequency\"] = customer_order_df[['CustomerID']].value_counts(sort=False).reset_index()[['count']]\n",
    "rfm_customer_order_df"
   ]
  },
  {
   "cell_type": "code",
   "execution_count": 214,
   "id": "670bad02",
   "metadata": {
    "scrolled": true
   },
   "outputs": [
    {
     "ename": "KeyError",
     "evalue": "\"['Monetary'] not in index\"",
     "output_type": "error",
     "traceback": [
      "\u001b[1;31m---------------------------------------------------------------------------\u001b[0m",
      "\u001b[1;31mKeyError\u001b[0m                                  Traceback (most recent call last)",
      "Cell \u001b[1;32mIn[214], line 4\u001b[0m\n\u001b[0;32m      1\u001b[0m \u001b[38;5;66;03m# 3. M 데이터중 동일한 고객 결제금액을 더하여 추출\u001b[39;00m\n\u001b[0;32m      2\u001b[0m \u001b[38;5;66;03m# rfm_customer_order_df['Monetary'] = customer_order_df.groupby('CustomerID').sum().reset_index()[['TransactionAmount']]\u001b[39;00m\n\u001b[1;32m----> 4\u001b[0m rfm_customer_order_df \u001b[38;5;241m=\u001b[39m rfm_customer_order_df[[\u001b[38;5;124m'\u001b[39m\u001b[38;5;124mRecency\u001b[39m\u001b[38;5;124m'\u001b[39m,\u001b[38;5;124m'\u001b[39m\u001b[38;5;124mFrequency\u001b[39m\u001b[38;5;124m'\u001b[39m, \u001b[38;5;124m'\u001b[39m\u001b[38;5;124mMonetary\u001b[39m\u001b[38;5;124m'\u001b[39m]]\n\u001b[0;32m      5\u001b[0m rfm_customer_order_df\n",
      "File \u001b[1;32mC:\\ProgramData\\anaconda3\\Lib\\site-packages\\pandas\\core\\frame.py:3767\u001b[0m, in \u001b[0;36mDataFrame.__getitem__\u001b[1;34m(self, key)\u001b[0m\n\u001b[0;32m   3765\u001b[0m     \u001b[38;5;28;01mif\u001b[39;00m is_iterator(key):\n\u001b[0;32m   3766\u001b[0m         key \u001b[38;5;241m=\u001b[39m \u001b[38;5;28mlist\u001b[39m(key)\n\u001b[1;32m-> 3767\u001b[0m     indexer \u001b[38;5;241m=\u001b[39m \u001b[38;5;28mself\u001b[39m\u001b[38;5;241m.\u001b[39mcolumns\u001b[38;5;241m.\u001b[39m_get_indexer_strict(key, \u001b[38;5;124m\"\u001b[39m\u001b[38;5;124mcolumns\u001b[39m\u001b[38;5;124m\"\u001b[39m)[\u001b[38;5;241m1\u001b[39m]\n\u001b[0;32m   3769\u001b[0m \u001b[38;5;66;03m# take() does not accept boolean indexers\u001b[39;00m\n\u001b[0;32m   3770\u001b[0m \u001b[38;5;28;01mif\u001b[39;00m \u001b[38;5;28mgetattr\u001b[39m(indexer, \u001b[38;5;124m\"\u001b[39m\u001b[38;5;124mdtype\u001b[39m\u001b[38;5;124m\"\u001b[39m, \u001b[38;5;28;01mNone\u001b[39;00m) \u001b[38;5;241m==\u001b[39m \u001b[38;5;28mbool\u001b[39m:\n",
      "File \u001b[1;32mC:\\ProgramData\\anaconda3\\Lib\\site-packages\\pandas\\core\\indexes\\base.py:5877\u001b[0m, in \u001b[0;36mIndex._get_indexer_strict\u001b[1;34m(self, key, axis_name)\u001b[0m\n\u001b[0;32m   5874\u001b[0m \u001b[38;5;28;01melse\u001b[39;00m:\n\u001b[0;32m   5875\u001b[0m     keyarr, indexer, new_indexer \u001b[38;5;241m=\u001b[39m \u001b[38;5;28mself\u001b[39m\u001b[38;5;241m.\u001b[39m_reindex_non_unique(keyarr)\n\u001b[1;32m-> 5877\u001b[0m \u001b[38;5;28mself\u001b[39m\u001b[38;5;241m.\u001b[39m_raise_if_missing(keyarr, indexer, axis_name)\n\u001b[0;32m   5879\u001b[0m keyarr \u001b[38;5;241m=\u001b[39m \u001b[38;5;28mself\u001b[39m\u001b[38;5;241m.\u001b[39mtake(indexer)\n\u001b[0;32m   5880\u001b[0m \u001b[38;5;28;01mif\u001b[39;00m \u001b[38;5;28misinstance\u001b[39m(key, Index):\n\u001b[0;32m   5881\u001b[0m     \u001b[38;5;66;03m# GH 42790 - Preserve name from an Index\u001b[39;00m\n",
      "File \u001b[1;32mC:\\ProgramData\\anaconda3\\Lib\\site-packages\\pandas\\core\\indexes\\base.py:5941\u001b[0m, in \u001b[0;36mIndex._raise_if_missing\u001b[1;34m(self, key, indexer, axis_name)\u001b[0m\n\u001b[0;32m   5938\u001b[0m     \u001b[38;5;28;01mraise\u001b[39;00m \u001b[38;5;167;01mKeyError\u001b[39;00m(\u001b[38;5;124mf\u001b[39m\u001b[38;5;124m\"\u001b[39m\u001b[38;5;124mNone of [\u001b[39m\u001b[38;5;132;01m{\u001b[39;00mkey\u001b[38;5;132;01m}\u001b[39;00m\u001b[38;5;124m] are in the [\u001b[39m\u001b[38;5;132;01m{\u001b[39;00maxis_name\u001b[38;5;132;01m}\u001b[39;00m\u001b[38;5;124m]\u001b[39m\u001b[38;5;124m\"\u001b[39m)\n\u001b[0;32m   5940\u001b[0m not_found \u001b[38;5;241m=\u001b[39m \u001b[38;5;28mlist\u001b[39m(ensure_index(key)[missing_mask\u001b[38;5;241m.\u001b[39mnonzero()[\u001b[38;5;241m0\u001b[39m]]\u001b[38;5;241m.\u001b[39munique())\n\u001b[1;32m-> 5941\u001b[0m \u001b[38;5;28;01mraise\u001b[39;00m \u001b[38;5;167;01mKeyError\u001b[39;00m(\u001b[38;5;124mf\u001b[39m\u001b[38;5;124m\"\u001b[39m\u001b[38;5;132;01m{\u001b[39;00mnot_found\u001b[38;5;132;01m}\u001b[39;00m\u001b[38;5;124m not in index\u001b[39m\u001b[38;5;124m\"\u001b[39m)\n",
      "\u001b[1;31mKeyError\u001b[0m: \"['Monetary'] not in index\""
     ]
    }
   ],
   "source": [
    "# 3. M 데이터중 동일한 고객 결제금액을 더하여 추출\n",
    "# rfm_customer_order_df['Monetary'] = customer_order_df.groupby('CustomerID').sum().reset_index()[['TransactionAmount']]\n",
    "\n",
    "rfm_customer_order_df = rfm_customer_order_df[['Recency','Frequency', 'Monetary']]\n",
    "rfm_customer_order_df"
   ]
  },
  {
   "cell_type": "markdown",
   "id": "67c592e4",
   "metadata": {},
   "source": [
    "### 정규화(Normalization)\n",
    "값의 범위를 0~1사이로 변환시켜 모든 컬럼의 데이터가 평등하게 만들어준다.  \n",
    "서로 다른 단위의 값은 비교대상이 될 수 없다. 예를 들어, 80kg과 180cm는 비교할 수 없기에 정규화를 사용하여 비교한다."
   ]
  },
  {
   "cell_type": "code",
   "execution_count": null,
   "id": "8e401ca7",
   "metadata": {},
   "outputs": [],
   "source": [
    "from sklearn.preprocessing import MinMaxScaler\n",
    "\n",
    "normalization = MinMaxScaler()\n",
    "rfm_normalization = normalization.fit_transform(rfm_customer_order_df)\n",
    "rfm_normalization = pd.DataFrame(rfm_normalization, columns=['Recency', 'Frequency', 'Monetary'])\n",
    "display(rfm_normalization)"
   ]
  },
  {
   "cell_type": "code",
   "execution_count": null,
   "id": "e5f266a7",
   "metadata": {},
   "outputs": [],
   "source": [
    "# conda install -c districtdatalabs yellowbrick\n",
    "from yellowbrick.cluster import KElbowVisualizer\n",
    "from sklearn.cluster import AgglomerativeClustering\n",
    "\n",
    "model = AgglomerativeClustering()\n",
    "\n",
    "# k_elbow_visualizer = KElbowVisualizer(model, k=(3, 9), timings=True)\n",
    "k_elbow_visualizer = KElbowVisualizer(model, k=(1, 20), timings=False)\n",
    "k_elbow_visualizer.fit(rfm_normalization)\n",
    "\n",
    "k_elbow_visualizer.show()"
   ]
  },
  {
   "cell_type": "code",
   "execution_count": null,
   "id": "fc95da44",
   "metadata": {
    "scrolled": true
   },
   "outputs": [],
   "source": [
    "agglomerative_clustering = AgglomerativeClustering(n_clusters=4).fit(rfm_normalization)\n",
    "rfm_customer_order_df.loc[:, 'cluster'] = agglomerative_clustering.labels_\n",
    "rfm_customer_order_df.loc[:, 'cluster'].value_counts()"
   ]
  },
  {
   "cell_type": "code",
   "execution_count": null,
   "id": "a33623a4",
   "metadata": {
    "scrolled": true
   },
   "outputs": [],
   "source": [
    "rfm_customer_order_df"
   ]
  },
  {
   "cell_type": "markdown",
   "id": "a7fb0e4e",
   "metadata": {},
   "source": [
    "### 시각화\n",
    "- matplotlib를 사용하여 데이터를 시각화할 수 있고 이를 통해 한 눈에 볼 수 없는 많은 데이터를 한 눈에 볼 수 있다.\n",
    "- 데이터 분석에 대한 전문 지식이 없는 일반인도 이해할 수 있다.\n",
    "- 동일한 통계를 가지고 있더라도, 시각화 시 변화나 패턴이 다를 수 있다."
   ]
  },
  {
   "cell_type": "code",
   "execution_count": null,
   "id": "c6f8bf0c",
   "metadata": {},
   "outputs": [],
   "source": [
    "customer_order_df['cluster'] = rfm_customer_order_df['cluster'].replace([0, 1, 2, 3], ['Gold', 'Bronze', 'VIP', 'Silver'])\n",
    "customer_order_df.sort_values('CustomerID')"
   ]
  },
  {
   "cell_type": "code",
   "execution_count": null,
   "id": "5aa835e4",
   "metadata": {
    "scrolled": false
   },
   "outputs": [],
   "source": [
    "import matplotlib.pyplot as plt\n",
    "import seaborn as sns\n",
    "order = ['Gold', 'Silver', 'Bronze', 'VIP']\n",
    "sns.countplot(x='cluster', data=customer_order_df, palette='muted', order=order)"
   ]
  }
 ],
 "metadata": {
  "kernelspec": {
   "display_name": "Python 3 (ipykernel)",
   "language": "python",
   "name": "python3"
  },
  "language_info": {
   "codemirror_mode": {
    "name": "ipython",
    "version": 3
   },
   "file_extension": ".py",
   "mimetype": "text/x-python",
   "name": "python",
   "nbconvert_exporter": "python",
   "pygments_lexer": "ipython3",
   "version": "3.11.5"
  }
 },
 "nbformat": 4,
 "nbformat_minor": 5
}
