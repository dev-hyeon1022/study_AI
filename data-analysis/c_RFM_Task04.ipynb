{
 "cells": [
  {
   "cell_type": "markdown",
   "id": "8f96be51",
   "metadata": {},
   "source": [
    "### RFM 분석\n",
    "####  사용자별로 얼마나 최근에, 얼마나 자주, 얼마나 많은 금액을 지출했는지에 따라 사용자들의 분포를 확인할 수 있고, 사용자 그룹(또는 등급)을 나누어 분류하는 분석 기법이다. 구매 가능성이 높은 고객을 선정할 때 용이한 데이터 분석 방법이며, 사용자들의 평소 구매 패턴을 기준으로 분류를 진행하기 때문에 각 사용자 그룹의 특성에 따라 차별화된 마케팅 메세지를 전달할 수 있다.\n",
    "\n",
    "- Recency : 얼마나 최근에 구매했는가\n",
    "- Frequency : 얼마나 자주 구매했는가\n",
    "- Monetary : 얼마나 많은 금액을 지출했는가"
   ]
  },
  {
   "cell_type": "markdown",
   "id": "e3e5387f",
   "metadata": {},
   "source": [
    "### 🛒이커머스 플랫폼 A기업의 RFM 분석\n",
    "📌이커머스: 온라인을 통해 상품이나 서비스를 사고파는 서비스 (쿠팡, 11번가, 네이버 등)\n",
    "\n",
    " \n",
    "<table style=\"width: 50%; margin-left:10px;\">\n",
    "    <caption>고객 분석</caption>\n",
    "    <tr>\n",
    "        <th>사용자</th>\n",
    "        <th>구매 횟수</th>\n",
    "        <th>구매 금액</th>\n",
    "        <th>최근 구매일</th>\n",
    "    </tr>\n",
    "    <tr>\n",
    "        <th>한동석</th>\n",
    "        <th>45</th>\n",
    "        <th>1,980,000</th>\n",
    "        <th>2개월 전</th>\n",
    "    </tr>\n",
    "    <tr>\n",
    "        <th>주선유</th>\n",
    "        <th>2</th>\n",
    "        <th>45,320</th>\n",
    "        <th>1년 전</th>\n",
    "    </tr>\n",
    "</table>\n",
    "\n",
    "##### 👓 \"한동석\" 고객을 VIP로 선정해서 연말 선물을 전달하면, 충성심있는 고객으로 유지할 수 있는 전략을 세울 수도 있고,<br> 🎫 \"주선유\" 고객에게 할인 쿠폰 등 자사의 플랫폼을 이용할 거리를 전달함으로써, 구매를 유도할 수 있는 전략을 세울 수도 있다.\n",
    "\n",
    "####  RFM을 사용하면 사용자의 특성별로 각기 다른 정책을 적용하고 서비스를 더 잘 사용하게끔 유도하는 전략을 세워볼 수가 있다."
   ]
  },
  {
   "cell_type": "markdown",
   "id": "5163e5c0",
   "metadata": {},
   "source": [
    "### 고객 분석\n",
    "\n",
    "- 판매거래일\n",
    "- 고객ID\n",
    "- 거래ID\n",
    "- SKU 카테고리 ID\n",
    "- SKU ID\n",
    "- 판매수량\n",
    "- 판매금액"
   ]
  },
  {
   "cell_type": "markdown",
   "id": "97dee8e1",
   "metadata": {},
   "source": [
    "### 데이터셋 확인"
   ]
  },
  {
   "cell_type": "code",
   "execution_count": 10,
   "id": "20c2f8ef",
   "metadata": {},
   "outputs": [
    {
     "data": {
      "text/html": [
       "<div>\n",
       "<style scoped>\n",
       "    .dataframe tbody tr th:only-of-type {\n",
       "        vertical-align: middle;\n",
       "    }\n",
       "\n",
       "    .dataframe tbody tr th {\n",
       "        vertical-align: top;\n",
       "    }\n",
       "\n",
       "    .dataframe thead th {\n",
       "        text-align: right;\n",
       "    }\n",
       "</style>\n",
       "<table border=\"1\" class=\"dataframe\">\n",
       "  <thead>\n",
       "    <tr style=\"text-align: right;\">\n",
       "      <th></th>\n",
       "      <th>Unnamed: 0</th>\n",
       "      <th>Date</th>\n",
       "      <th>Customer_ID</th>\n",
       "      <th>Transaction_ID</th>\n",
       "      <th>SKU_Category</th>\n",
       "      <th>SKU</th>\n",
       "      <th>Quantity</th>\n",
       "      <th>Sales_Amount</th>\n",
       "    </tr>\n",
       "  </thead>\n",
       "  <tbody>\n",
       "    <tr>\n",
       "      <th>0</th>\n",
       "      <td>1</td>\n",
       "      <td>02/01/2016</td>\n",
       "      <td>2547</td>\n",
       "      <td>1</td>\n",
       "      <td>X52</td>\n",
       "      <td>0EM7L</td>\n",
       "      <td>1.0</td>\n",
       "      <td>3.13</td>\n",
       "    </tr>\n",
       "    <tr>\n",
       "      <th>1</th>\n",
       "      <td>2</td>\n",
       "      <td>02/01/2016</td>\n",
       "      <td>822</td>\n",
       "      <td>2</td>\n",
       "      <td>2ML</td>\n",
       "      <td>68BRQ</td>\n",
       "      <td>1.0</td>\n",
       "      <td>5.46</td>\n",
       "    </tr>\n",
       "    <tr>\n",
       "      <th>2</th>\n",
       "      <td>3</td>\n",
       "      <td>02/01/2016</td>\n",
       "      <td>3686</td>\n",
       "      <td>3</td>\n",
       "      <td>0H2</td>\n",
       "      <td>CZUZX</td>\n",
       "      <td>1.0</td>\n",
       "      <td>6.35</td>\n",
       "    </tr>\n",
       "    <tr>\n",
       "      <th>3</th>\n",
       "      <td>4</td>\n",
       "      <td>02/01/2016</td>\n",
       "      <td>3719</td>\n",
       "      <td>4</td>\n",
       "      <td>0H2</td>\n",
       "      <td>549KK</td>\n",
       "      <td>1.0</td>\n",
       "      <td>5.59</td>\n",
       "    </tr>\n",
       "    <tr>\n",
       "      <th>4</th>\n",
       "      <td>5</td>\n",
       "      <td>02/01/2016</td>\n",
       "      <td>9200</td>\n",
       "      <td>5</td>\n",
       "      <td>0H2</td>\n",
       "      <td>K8EHH</td>\n",
       "      <td>1.0</td>\n",
       "      <td>6.88</td>\n",
       "    </tr>\n",
       "  </tbody>\n",
       "</table>\n",
       "</div>"
      ],
      "text/plain": [
       "   Unnamed: 0        Date  Customer_ID  Transaction_ID SKU_Category    SKU  \\\n",
       "0           1  02/01/2016         2547               1          X52  0EM7L   \n",
       "1           2  02/01/2016          822               2          2ML  68BRQ   \n",
       "2           3  02/01/2016         3686               3          0H2  CZUZX   \n",
       "3           4  02/01/2016         3719               4          0H2  549KK   \n",
       "4           5  02/01/2016         9200               5          0H2  K8EHH   \n",
       "\n",
       "   Quantity  Sales_Amount  \n",
       "0       1.0          3.13  \n",
       "1       1.0          5.46  \n",
       "2       1.0          6.35  \n",
       "3       1.0          5.59  \n",
       "4       1.0          6.88  "
      ]
     },
     "metadata": {},
     "output_type": "display_data"
    },
    {
     "name": "stdout",
     "output_type": "stream",
     "text": [
      "<class 'pandas.core.frame.DataFrame'>\n",
      "RangeIndex: 131706 entries, 0 to 131705\n",
      "Data columns (total 7 columns):\n",
      " #   Column          Non-Null Count   Dtype  \n",
      "---  ------          --------------   -----  \n",
      " 0   Date            131706 non-null  object \n",
      " 1   Customer_ID     131706 non-null  int64  \n",
      " 2   Transaction_ID  131706 non-null  int64  \n",
      " 3   SKU_Category    131706 non-null  object \n",
      " 4   SKU             131706 non-null  object \n",
      " 5   Quantity        131706 non-null  float64\n",
      " 6   Sales_Amount    131706 non-null  float64\n",
      "dtypes: float64(2), int64(2), object(3)\n",
      "memory usage: 7.0+ MB\n"
     ]
    }
   ],
   "source": [
    "import pandas as pd\n",
    "\n",
    "#csv파일 불러오기\n",
    "customer_segmentation_df = pd.read_csv('./datasets/retail_customer_segmentation.csv')\n",
    "\n",
    "# 데이터 확인\n",
    "display(customer_segmentation_df.head())\n",
    "\n",
    "# 불필요한 컬럼 삭제\n",
    "customer_segmentation_df.drop(columns=['Unnamed: 0'], inplace=True)\n",
    "\n",
    "# 컬럼의 자세한 정보 확인하기\n",
    "customer_segmentation_df.info()"
   ]
  },
  {
   "cell_type": "markdown",
   "id": "cbbc791f",
   "metadata": {},
   "source": [
    "### 결측치 검사\n",
    "📌결측치: 값이 없는 것, Null 또는 NA로 표현."
   ]
  },
  {
   "cell_type": "code",
   "execution_count": 11,
   "id": "1b8ffdfe",
   "metadata": {},
   "outputs": [
    {
     "data": {
      "text/plain": [
       "0"
      ]
     },
     "execution_count": 11,
     "metadata": {},
     "output_type": "execute_result"
    }
   ],
   "source": [
    "customer_segmentation_df.isnull().sum().sum()"
   ]
  },
  {
   "cell_type": "markdown",
   "id": "9249bc18",
   "metadata": {},
   "source": [
    "### 중복 행 검사"
   ]
  },
  {
   "cell_type": "code",
   "execution_count": 12,
   "id": "9f4a45f2",
   "metadata": {},
   "outputs": [
    {
     "data": {
      "text/plain": [
       "0"
      ]
     },
     "execution_count": 12,
     "metadata": {},
     "output_type": "execute_result"
    }
   ],
   "source": [
    "customer_segmentation_df.duplicated().sum()"
   ]
  },
  {
   "cell_type": "markdown",
   "id": "cb14ec6f",
   "metadata": {},
   "source": [
    "### 컬럼별 갯수, 평균, 최솟값, 4분위분포, 최댓값, 표준편차 확인하기"
   ]
  },
  {
   "cell_type": "code",
   "execution_count": 13,
   "id": "4959ec96",
   "metadata": {
    "scrolled": false
   },
   "outputs": [
    {
     "data": {
      "text/html": [
       "<div>\n",
       "<style scoped>\n",
       "    .dataframe tbody tr th:only-of-type {\n",
       "        vertical-align: middle;\n",
       "    }\n",
       "\n",
       "    .dataframe tbody tr th {\n",
       "        vertical-align: top;\n",
       "    }\n",
       "\n",
       "    .dataframe thead th {\n",
       "        text-align: right;\n",
       "    }\n",
       "</style>\n",
       "<table border=\"1\" class=\"dataframe\">\n",
       "  <thead>\n",
       "    <tr style=\"text-align: right;\">\n",
       "      <th></th>\n",
       "      <th>count</th>\n",
       "      <th>mean</th>\n",
       "      <th>std</th>\n",
       "      <th>min</th>\n",
       "      <th>25%</th>\n",
       "      <th>50%</th>\n",
       "      <th>75%</th>\n",
       "      <th>max</th>\n",
       "    </tr>\n",
       "  </thead>\n",
       "  <tbody>\n",
       "    <tr>\n",
       "      <th>Customer_ID</th>\n",
       "      <td>131706.0</td>\n",
       "      <td>12386.450367</td>\n",
       "      <td>6086.447552</td>\n",
       "      <td>1.00</td>\n",
       "      <td>7349.00</td>\n",
       "      <td>13496.00</td>\n",
       "      <td>17306.00</td>\n",
       "      <td>22625.00</td>\n",
       "    </tr>\n",
       "    <tr>\n",
       "      <th>Transaction_ID</th>\n",
       "      <td>131706.0</td>\n",
       "      <td>32389.604187</td>\n",
       "      <td>18709.901238</td>\n",
       "      <td>1.00</td>\n",
       "      <td>16134.00</td>\n",
       "      <td>32620.00</td>\n",
       "      <td>48548.00</td>\n",
       "      <td>64682.00</td>\n",
       "    </tr>\n",
       "    <tr>\n",
       "      <th>Quantity</th>\n",
       "      <td>131706.0</td>\n",
       "      <td>1.485311</td>\n",
       "      <td>3.872667</td>\n",
       "      <td>0.01</td>\n",
       "      <td>1.00</td>\n",
       "      <td>1.00</td>\n",
       "      <td>1.00</td>\n",
       "      <td>400.00</td>\n",
       "    </tr>\n",
       "    <tr>\n",
       "      <th>Sales_Amount</th>\n",
       "      <td>131706.0</td>\n",
       "      <td>11.981524</td>\n",
       "      <td>19.359699</td>\n",
       "      <td>0.02</td>\n",
       "      <td>4.23</td>\n",
       "      <td>6.92</td>\n",
       "      <td>12.33</td>\n",
       "      <td>707.73</td>\n",
       "    </tr>\n",
       "  </tbody>\n",
       "</table>\n",
       "</div>"
      ],
      "text/plain": [
       "                   count          mean           std   min       25%  \\\n",
       "Customer_ID     131706.0  12386.450367   6086.447552  1.00   7349.00   \n",
       "Transaction_ID  131706.0  32389.604187  18709.901238  1.00  16134.00   \n",
       "Quantity        131706.0      1.485311      3.872667  0.01      1.00   \n",
       "Sales_Amount    131706.0     11.981524     19.359699  0.02      4.23   \n",
       "\n",
       "                     50%       75%       max  \n",
       "Customer_ID     13496.00  17306.00  22625.00  \n",
       "Transaction_ID  32620.00  48548.00  64682.00  \n",
       "Quantity            1.00      1.00    400.00  \n",
       "Sales_Amount        6.92     12.33    707.73  "
      ]
     },
     "metadata": {},
     "output_type": "display_data"
    }
   ],
   "source": [
    "#컬럼별 갯수, 평균, 최솟값, 4분위분포, 최댓값, 표준편차 확인하기\n",
    "display(customer_segmentation_df.describe().T)"
   ]
  },
  {
   "cell_type": "markdown",
   "id": "ee96037a",
   "metadata": {},
   "source": [
    "### 데이터 전처리\n",
    "> 데이터 유형을 변환하거나 데이터 분석에 용이한 형태로 변환하는 작업이다.   \n",
    "  불필요한 컬럼 삭제, 열 병합 등을 통해 데이터를 정제하는 처리방식.\n",
    "\n",
    "- date를 오늘 날짜로부터 몇 일 차이인지로 변환 후 최근 구매 척도인 Recency로 변환\n",
    "- customer_id별 구매 횟수를 구매 빈도의 척도인 Frequency로 변환\n",
    "- quantity와 sales_amount 곱하여(총 주문 가격) Monetary로 변환"
   ]
  },
  {
   "cell_type": "code",
   "execution_count": 14,
   "id": "71f9fd4f",
   "metadata": {
    "scrolled": true
   },
   "outputs": [],
   "source": [
    "# Recency 구하기\n",
    "customer_segmentation_df['Recency'] = pd.to_datetime(customer_segmentation_df['Date'], dayfirst=True).apply(lambda x: (pd.to_datetime('2023-10-09') - x).days)\n",
    "customer_segmentation_df.drop(columns=['Date'], axis=1, inplace=True)\n",
    "# display(customer_segmentation_df)"
   ]
  },
  {
   "cell_type": "code",
   "execution_count": 15,
   "id": "f336c2b6",
   "metadata": {},
   "outputs": [],
   "source": [
    "# Monetary 구하기\n",
    "customer_segmentation_df['Monetary'] = customer_segmentation_df['Sales_Amount'] * customer_segmentation_df['Quantity']\n",
    "# display(customer_segmentation_df)"
   ]
  },
  {
   "cell_type": "code",
   "execution_count": 16,
   "id": "4b4ef0bc",
   "metadata": {
    "scrolled": true
   },
   "outputs": [
    {
     "data": {
      "text/html": [
       "<div>\n",
       "<style scoped>\n",
       "    .dataframe tbody tr th:only-of-type {\n",
       "        vertical-align: middle;\n",
       "    }\n",
       "\n",
       "    .dataframe tbody tr th {\n",
       "        vertical-align: top;\n",
       "    }\n",
       "\n",
       "    .dataframe thead th {\n",
       "        text-align: right;\n",
       "    }\n",
       "</style>\n",
       "<table border=\"1\" class=\"dataframe\">\n",
       "  <thead>\n",
       "    <tr style=\"text-align: right;\">\n",
       "      <th></th>\n",
       "      <th>Customer_ID</th>\n",
       "      <th>Recency</th>\n",
       "      <th>Frequency</th>\n",
       "      <th>Monetary</th>\n",
       "    </tr>\n",
       "  </thead>\n",
       "  <tbody>\n",
       "    <tr>\n",
       "      <th>0</th>\n",
       "      <td>1</td>\n",
       "      <td>2817</td>\n",
       "      <td>2</td>\n",
       "      <td>16.29</td>\n",
       "    </tr>\n",
       "    <tr>\n",
       "      <th>1</th>\n",
       "      <td>2</td>\n",
       "      <td>2668</td>\n",
       "      <td>2</td>\n",
       "      <td>22.77</td>\n",
       "    </tr>\n",
       "    <tr>\n",
       "      <th>2</th>\n",
       "      <td>3</td>\n",
       "      <td>2837</td>\n",
       "      <td>3</td>\n",
       "      <td>19.08</td>\n",
       "    </tr>\n",
       "    <tr>\n",
       "      <th>3</th>\n",
       "      <td>4</td>\n",
       "      <td>2525</td>\n",
       "      <td>5</td>\n",
       "      <td>33.29</td>\n",
       "    </tr>\n",
       "    <tr>\n",
       "      <th>4</th>\n",
       "      <td>5</td>\n",
       "      <td>2652</td>\n",
       "      <td>5</td>\n",
       "      <td>248.27</td>\n",
       "    </tr>\n",
       "    <tr>\n",
       "      <th>...</th>\n",
       "      <td>...</td>\n",
       "      <td>...</td>\n",
       "      <td>...</td>\n",
       "      <td>...</td>\n",
       "    </tr>\n",
       "    <tr>\n",
       "      <th>22620</th>\n",
       "      <td>22621</td>\n",
       "      <td>2494</td>\n",
       "      <td>2</td>\n",
       "      <td>17.19</td>\n",
       "    </tr>\n",
       "    <tr>\n",
       "      <th>22621</th>\n",
       "      <td>22622</td>\n",
       "      <td>2488</td>\n",
       "      <td>1</td>\n",
       "      <td>6.07</td>\n",
       "    </tr>\n",
       "    <tr>\n",
       "      <th>22622</th>\n",
       "      <td>22623</td>\n",
       "      <td>2483</td>\n",
       "      <td>2</td>\n",
       "      <td>225.87</td>\n",
       "    </tr>\n",
       "    <tr>\n",
       "      <th>22623</th>\n",
       "      <td>22624</td>\n",
       "      <td>2502</td>\n",
       "      <td>2</td>\n",
       "      <td>19.60</td>\n",
       "    </tr>\n",
       "    <tr>\n",
       "      <th>22624</th>\n",
       "      <td>22625</td>\n",
       "      <td>2473</td>\n",
       "      <td>9</td>\n",
       "      <td>89.08</td>\n",
       "    </tr>\n",
       "  </tbody>\n",
       "</table>\n",
       "<p>22625 rows × 4 columns</p>\n",
       "</div>"
      ],
      "text/plain": [
       "       Customer_ID  Recency  Frequency  Monetary\n",
       "0                1     2817          2     16.29\n",
       "1                2     2668          2     22.77\n",
       "2                3     2837          3     19.08\n",
       "3                4     2525          5     33.29\n",
       "4                5     2652          5    248.27\n",
       "...            ...      ...        ...       ...\n",
       "22620        22621     2494          2     17.19\n",
       "22621        22622     2488          1      6.07\n",
       "22622        22623     2483          2    225.87\n",
       "22623        22624     2502          2     19.60\n",
       "22624        22625     2473          9     89.08\n",
       "\n",
       "[22625 rows x 4 columns]"
      ]
     },
     "metadata": {},
     "output_type": "display_data"
    }
   ],
   "source": [
    "# 고객별 RFM 구하기\n",
    "customer_segmentation_df_rfm = customer_segmentation_df.groupby('Customer_ID') \\\n",
    "    .agg({'Customer_ID': 'count', 'Recency': 'min', 'Monetary': 'sum'}) \\\n",
    "    .rename(columns={'Customer_ID': 'Frequency'})\n",
    "\n",
    "# index 재정렬\n",
    "customer_segmentation_df_rfm = customer_segmentation_df_rfm.reset_index()\n",
    "\n",
    "# 컬럼 순서 변경 \n",
    "# Customer_ID Frequency Recency Monetary -> Customer_ID Recency Frequency Monetary\n",
    "customer_segmentation_df_rfm = customer_segmentation_df_rfm[['Customer_ID', 'Recency', 'Frequency', 'Monetary']]\n",
    "\n",
    "display(customer_segmentation_df_rfm)"
   ]
  },
  {
   "cell_type": "markdown",
   "id": "ec369760",
   "metadata": {},
   "source": [
    "### 정규화(Normalization)\n",
    "값의 범위를 0~1사이로 변환시켜 모든 컬럼의 데이터가 평등하게 만들어준다.  \n",
    "서로 다른 단위의 값은 비교대상이 될 수 없다. 예를 들어, 80kg과 180cm는 비교할 수 없기에 정규화를 사용하여 비교한다."
   ]
  },
  {
   "cell_type": "code",
   "execution_count": 17,
   "id": "0c363240",
   "metadata": {},
   "outputs": [],
   "source": [
    "from sklearn.preprocessing import MinMaxScaler\n",
    "\n",
    "normalization = MinMaxScaler()\n",
    "\n",
    "rfm_normalization= normalization.fit_transform(customer_segmentation_df_rfm[['Frequency', 'Recency', 'Monetary']])"
   ]
  },
  {
   "cell_type": "code",
   "execution_count": 18,
   "id": "1844c8be",
   "metadata": {
    "scrolled": false
   },
   "outputs": [
    {
     "name": "stdout",
     "output_type": "stream",
     "text": [
      "<class 'pandas.core.frame.DataFrame'>\n"
     ]
    },
    {
     "data": {
      "text/html": [
       "<div>\n",
       "<style scoped>\n",
       "    .dataframe tbody tr th:only-of-type {\n",
       "        vertical-align: middle;\n",
       "    }\n",
       "\n",
       "    .dataframe tbody tr th {\n",
       "        vertical-align: top;\n",
       "    }\n",
       "\n",
       "    .dataframe thead th {\n",
       "        text-align: right;\n",
       "    }\n",
       "</style>\n",
       "<table border=\"1\" class=\"dataframe\">\n",
       "  <thead>\n",
       "    <tr style=\"text-align: right;\">\n",
       "      <th></th>\n",
       "      <th>Frequency</th>\n",
       "      <th>Recency</th>\n",
       "      <th>Monetary</th>\n",
       "    </tr>\n",
       "  </thead>\n",
       "  <tbody>\n",
       "    <tr>\n",
       "      <th>0</th>\n",
       "      <td>0.004405</td>\n",
       "      <td>0.945055</td>\n",
       "      <td>0.000403</td>\n",
       "    </tr>\n",
       "    <tr>\n",
       "      <th>1</th>\n",
       "      <td>0.004405</td>\n",
       "      <td>0.535714</td>\n",
       "      <td>0.000565</td>\n",
       "    </tr>\n",
       "    <tr>\n",
       "      <th>2</th>\n",
       "      <td>0.008811</td>\n",
       "      <td>1.000000</td>\n",
       "      <td>0.000473</td>\n",
       "    </tr>\n",
       "    <tr>\n",
       "      <th>3</th>\n",
       "      <td>0.017621</td>\n",
       "      <td>0.142857</td>\n",
       "      <td>0.000827</td>\n",
       "    </tr>\n",
       "    <tr>\n",
       "      <th>4</th>\n",
       "      <td>0.017621</td>\n",
       "      <td>0.491758</td>\n",
       "      <td>0.006192</td>\n",
       "    </tr>\n",
       "    <tr>\n",
       "      <th>...</th>\n",
       "      <td>...</td>\n",
       "      <td>...</td>\n",
       "      <td>...</td>\n",
       "    </tr>\n",
       "    <tr>\n",
       "      <th>22620</th>\n",
       "      <td>0.004405</td>\n",
       "      <td>0.057692</td>\n",
       "      <td>0.000426</td>\n",
       "    </tr>\n",
       "    <tr>\n",
       "      <th>22621</th>\n",
       "      <td>0.000000</td>\n",
       "      <td>0.041209</td>\n",
       "      <td>0.000148</td>\n",
       "    </tr>\n",
       "    <tr>\n",
       "      <th>22622</th>\n",
       "      <td>0.004405</td>\n",
       "      <td>0.027473</td>\n",
       "      <td>0.005633</td>\n",
       "    </tr>\n",
       "    <tr>\n",
       "      <th>22623</th>\n",
       "      <td>0.004405</td>\n",
       "      <td>0.079670</td>\n",
       "      <td>0.000486</td>\n",
       "    </tr>\n",
       "    <tr>\n",
       "      <th>22624</th>\n",
       "      <td>0.035242</td>\n",
       "      <td>0.000000</td>\n",
       "      <td>0.002220</td>\n",
       "    </tr>\n",
       "  </tbody>\n",
       "</table>\n",
       "<p>22625 rows × 3 columns</p>\n",
       "</div>"
      ],
      "text/plain": [
       "       Frequency   Recency  Monetary\n",
       "0       0.004405  0.945055  0.000403\n",
       "1       0.004405  0.535714  0.000565\n",
       "2       0.008811  1.000000  0.000473\n",
       "3       0.017621  0.142857  0.000827\n",
       "4       0.017621  0.491758  0.006192\n",
       "...          ...       ...       ...\n",
       "22620   0.004405  0.057692  0.000426\n",
       "22621   0.000000  0.041209  0.000148\n",
       "22622   0.004405  0.027473  0.005633\n",
       "22623   0.004405  0.079670  0.000486\n",
       "22624   0.035242  0.000000  0.002220\n",
       "\n",
       "[22625 rows x 3 columns]"
      ]
     },
     "metadata": {},
     "output_type": "display_data"
    }
   ],
   "source": [
    "print(type(customer_segmentation_df_rfm))\n",
    "rfm_normalization = pd.DataFrame(rfm_normalization, columns=['Frequency', 'Recency', 'Monetary'])\n",
    "display(rfm_normalization)"
   ]
  },
  {
   "cell_type": "code",
   "execution_count": 19,
   "id": "2ac4e22e",
   "metadata": {
    "scrolled": true
   },
   "outputs": [
    {
     "data": {
      "text/html": [
       "<div>\n",
       "<style scoped>\n",
       "    .dataframe tbody tr th:only-of-type {\n",
       "        vertical-align: middle;\n",
       "    }\n",
       "\n",
       "    .dataframe tbody tr th {\n",
       "        vertical-align: top;\n",
       "    }\n",
       "\n",
       "    .dataframe thead th {\n",
       "        text-align: right;\n",
       "    }\n",
       "</style>\n",
       "<table border=\"1\" class=\"dataframe\">\n",
       "  <thead>\n",
       "    <tr style=\"text-align: right;\">\n",
       "      <th></th>\n",
       "      <th>Customer_ID</th>\n",
       "      <th>Recency</th>\n",
       "      <th>Frequency</th>\n",
       "      <th>Monetary</th>\n",
       "    </tr>\n",
       "  </thead>\n",
       "  <tbody>\n",
       "    <tr>\n",
       "      <th>0</th>\n",
       "      <td>1</td>\n",
       "      <td>0.945055</td>\n",
       "      <td>0.004405</td>\n",
       "      <td>0.000403</td>\n",
       "    </tr>\n",
       "    <tr>\n",
       "      <th>1</th>\n",
       "      <td>2</td>\n",
       "      <td>0.535714</td>\n",
       "      <td>0.004405</td>\n",
       "      <td>0.000565</td>\n",
       "    </tr>\n",
       "    <tr>\n",
       "      <th>2</th>\n",
       "      <td>3</td>\n",
       "      <td>1.000000</td>\n",
       "      <td>0.008811</td>\n",
       "      <td>0.000473</td>\n",
       "    </tr>\n",
       "    <tr>\n",
       "      <th>3</th>\n",
       "      <td>4</td>\n",
       "      <td>0.142857</td>\n",
       "      <td>0.017621</td>\n",
       "      <td>0.000827</td>\n",
       "    </tr>\n",
       "    <tr>\n",
       "      <th>4</th>\n",
       "      <td>5</td>\n",
       "      <td>0.491758</td>\n",
       "      <td>0.017621</td>\n",
       "      <td>0.006192</td>\n",
       "    </tr>\n",
       "    <tr>\n",
       "      <th>...</th>\n",
       "      <td>...</td>\n",
       "      <td>...</td>\n",
       "      <td>...</td>\n",
       "      <td>...</td>\n",
       "    </tr>\n",
       "    <tr>\n",
       "      <th>22620</th>\n",
       "      <td>22621</td>\n",
       "      <td>0.057692</td>\n",
       "      <td>0.004405</td>\n",
       "      <td>0.000426</td>\n",
       "    </tr>\n",
       "    <tr>\n",
       "      <th>22621</th>\n",
       "      <td>22622</td>\n",
       "      <td>0.041209</td>\n",
       "      <td>0.000000</td>\n",
       "      <td>0.000148</td>\n",
       "    </tr>\n",
       "    <tr>\n",
       "      <th>22622</th>\n",
       "      <td>22623</td>\n",
       "      <td>0.027473</td>\n",
       "      <td>0.004405</td>\n",
       "      <td>0.005633</td>\n",
       "    </tr>\n",
       "    <tr>\n",
       "      <th>22623</th>\n",
       "      <td>22624</td>\n",
       "      <td>0.079670</td>\n",
       "      <td>0.004405</td>\n",
       "      <td>0.000486</td>\n",
       "    </tr>\n",
       "    <tr>\n",
       "      <th>22624</th>\n",
       "      <td>22625</td>\n",
       "      <td>0.000000</td>\n",
       "      <td>0.035242</td>\n",
       "      <td>0.002220</td>\n",
       "    </tr>\n",
       "  </tbody>\n",
       "</table>\n",
       "<p>22625 rows × 4 columns</p>\n",
       "</div>"
      ],
      "text/plain": [
       "       Customer_ID   Recency  Frequency  Monetary\n",
       "0                1  0.945055   0.004405  0.000403\n",
       "1                2  0.535714   0.004405  0.000565\n",
       "2                3  1.000000   0.008811  0.000473\n",
       "3                4  0.142857   0.017621  0.000827\n",
       "4                5  0.491758   0.017621  0.006192\n",
       "...            ...       ...        ...       ...\n",
       "22620        22621  0.057692   0.004405  0.000426\n",
       "22621        22622  0.041209   0.000000  0.000148\n",
       "22622        22623  0.027473   0.004405  0.005633\n",
       "22623        22624  0.079670   0.004405  0.000486\n",
       "22624        22625  0.000000   0.035242  0.002220\n",
       "\n",
       "[22625 rows x 4 columns]"
      ]
     },
     "metadata": {},
     "output_type": "display_data"
    }
   ],
   "source": [
    "customer_segmentation_df_rfm[['Frequency', 'Recency', 'Monetary']] = rfm_normalization[['Frequency', 'Recency', 'Monetary']]\n",
    "display(customer_segmentation_df_rfm)"
   ]
  },
  {
   "cell_type": "markdown",
   "id": "137e9cdd",
   "metadata": {},
   "source": [
    "### 데이터 마이닝\n",
    "- 대규모로 저장된 데이터안에서 체계적이고 자동적으로 통계적 규칙이나 짜임 또는 패턴을 분석하여, 가치있는 정보를 빼내는 과정이다.\n",
    "\n",
    "### 클러스터 분석(Cluster analysis)\n",
    "- 주어진 데이터들의 특성을 고려해 데이터 집단을 정의하고 데이터 집단을 대표할 수 있는 대표점을 찾는 것으로 데이터 마이닝의 한 방법이다.\n",
    "- 클러스터란 비슷한 특성을 가진 데이터들의 집단이고 데이터의 성격에 따라 여러 클러스터(집단)으로 나뉠 수 있다.\n",
    "- 머신러닝을 사용하여 분석할 수 있으며, 분리할 클러스터 개수를 알려줘야 한다.  \n",
    "이 때, KElbowVisualizer를 사용해서 최적의 클러스터 개수(elbow)를 먼저 알아낼 수 있다."
   ]
  },
  {
   "cell_type": "markdown",
   "id": "9a9cd679",
   "metadata": {},
   "source": [
    "### 병합 집단 알고리즘(Agglomerative clustering)\n",
    "- 점과 점 사이의 거리값을 사용하여 샘플 데이터의 클러스터 쌍을 반복적으로 병합한다.\n",
    "- 전달받은 클러스터 개수와 일치할 때 종료한다.\n",
    "\n",
    "![](./images/agglomerative_clustering.png)"
   ]
  },
  {
   "cell_type": "code",
   "execution_count": 21,
   "id": "f15743e4",
   "metadata": {
    "scrolled": false
   },
   "outputs": [
    {
     "data": {
      "image/png": "[encoded data removed]",
      "text/plain": [
       "<Figure size 800x550 with 2 Axes>"
      ]
     },
     "metadata": {},
     "output_type": "display_data"
    },
    {
     "data": {
      "text/plain": [
       "<Axes: title={'center': 'Distortion Score Elbow for AgglomerativeClustering Clustering'}, xlabel='k', ylabel='distortion score'>"
      ]
     },
     "execution_count": 21,
     "metadata": {},
     "output_type": "execute_result"
    }
   ],
   "source": [
    "from yellowbrick.cluster import KElbowVisualizer\n",
    "from sklearn.cluster import AgglomerativeClustering\n",
    "\n",
    "model = AgglomerativeClustering()\n",
    "\n",
    "k_elbow_visualizer = KElbowVisualizer(model, k=(1, 9))\n",
    "k_elbow_visualizer.fit(customer_segmentation_df_rfm[['Frequency', 'Recency', 'Monetary']])\n",
    "k_elbow_visualizer.show()"
   ]
  },
  {
   "cell_type": "code",
   "execution_count": 23,
   "id": "4d5b98c9",
   "metadata": {
    "scrolled": false
   },
   "outputs": [
    {
     "name": "stdout",
     "output_type": "stream",
     "text": [
      "cluster\n",
      "0    12230\n",
      "1    10395\n",
      "Name: count, dtype: int64\n"
     ]
    },
    {
     "data": {
      "text/html": [
       "<div>\n",
       "<style scoped>\n",
       "    .dataframe tbody tr th:only-of-type {\n",
       "        vertical-align: middle;\n",
       "    }\n",
       "\n",
       "    .dataframe tbody tr th {\n",
       "        vertical-align: top;\n",
       "    }\n",
       "\n",
       "    .dataframe thead th {\n",
       "        text-align: right;\n",
       "    }\n",
       "</style>\n",
       "<table border=\"1\" class=\"dataframe\">\n",
       "  <thead>\n",
       "    <tr style=\"text-align: right;\">\n",
       "      <th></th>\n",
       "      <th>Customer_ID</th>\n",
       "      <th>Recency</th>\n",
       "      <th>Frequency</th>\n",
       "      <th>Monetary</th>\n",
       "      <th>cluster</th>\n",
       "    </tr>\n",
       "  </thead>\n",
       "  <tbody>\n",
       "    <tr>\n",
       "      <th>0</th>\n",
       "      <td>1</td>\n",
       "      <td>0.945055</td>\n",
       "      <td>0.004405</td>\n",
       "      <td>0.000403</td>\n",
       "      <td>1</td>\n",
       "    </tr>\n",
       "    <tr>\n",
       "      <th>1</th>\n",
       "      <td>2</td>\n",
       "      <td>0.535714</td>\n",
       "      <td>0.004405</td>\n",
       "      <td>0.000565</td>\n",
       "      <td>1</td>\n",
       "    </tr>\n",
       "    <tr>\n",
       "      <th>2</th>\n",
       "      <td>3</td>\n",
       "      <td>1.000000</td>\n",
       "      <td>0.008811</td>\n",
       "      <td>0.000473</td>\n",
       "      <td>1</td>\n",
       "    </tr>\n",
       "    <tr>\n",
       "      <th>3</th>\n",
       "      <td>4</td>\n",
       "      <td>0.142857</td>\n",
       "      <td>0.017621</td>\n",
       "      <td>0.000827</td>\n",
       "      <td>0</td>\n",
       "    </tr>\n",
       "    <tr>\n",
       "      <th>4</th>\n",
       "      <td>5</td>\n",
       "      <td>0.491758</td>\n",
       "      <td>0.017621</td>\n",
       "      <td>0.006192</td>\n",
       "      <td>1</td>\n",
       "    </tr>\n",
       "    <tr>\n",
       "      <th>...</th>\n",
       "      <td>...</td>\n",
       "      <td>...</td>\n",
       "      <td>...</td>\n",
       "      <td>...</td>\n",
       "      <td>...</td>\n",
       "    </tr>\n",
       "    <tr>\n",
       "      <th>22620</th>\n",
       "      <td>22621</td>\n",
       "      <td>0.057692</td>\n",
       "      <td>0.004405</td>\n",
       "      <td>0.000426</td>\n",
       "      <td>0</td>\n",
       "    </tr>\n",
       "    <tr>\n",
       "      <th>22621</th>\n",
       "      <td>22622</td>\n",
       "      <td>0.041209</td>\n",
       "      <td>0.000000</td>\n",
       "      <td>0.000148</td>\n",
       "      <td>0</td>\n",
       "    </tr>\n",
       "    <tr>\n",
       "      <th>22622</th>\n",
       "      <td>22623</td>\n",
       "      <td>0.027473</td>\n",
       "      <td>0.004405</td>\n",
       "      <td>0.005633</td>\n",
       "      <td>0</td>\n",
       "    </tr>\n",
       "    <tr>\n",
       "      <th>22623</th>\n",
       "      <td>22624</td>\n",
       "      <td>0.079670</td>\n",
       "      <td>0.004405</td>\n",
       "      <td>0.000486</td>\n",
       "      <td>0</td>\n",
       "    </tr>\n",
       "    <tr>\n",
       "      <th>22624</th>\n",
       "      <td>22625</td>\n",
       "      <td>0.000000</td>\n",
       "      <td>0.035242</td>\n",
       "      <td>0.002220</td>\n",
       "      <td>0</td>\n",
       "    </tr>\n",
       "  </tbody>\n",
       "</table>\n",
       "<p>22625 rows × 5 columns</p>\n",
       "</div>"
      ],
      "text/plain": [
       "       Customer_ID   Recency  Frequency  Monetary  cluster\n",
       "0                1  0.945055   0.004405  0.000403        1\n",
       "1                2  0.535714   0.004405  0.000565        1\n",
       "2                3  1.000000   0.008811  0.000473        1\n",
       "3                4  0.142857   0.017621  0.000827        0\n",
       "4                5  0.491758   0.017621  0.006192        1\n",
       "...            ...       ...        ...       ...      ...\n",
       "22620        22621  0.057692   0.004405  0.000426        0\n",
       "22621        22622  0.041209   0.000000  0.000148        0\n",
       "22622        22623  0.027473   0.004405  0.005633        0\n",
       "22623        22624  0.079670   0.004405  0.000486        0\n",
       "22624        22625  0.000000   0.035242  0.002220        0\n",
       "\n",
       "[22625 rows x 5 columns]"
      ]
     },
     "execution_count": 23,
     "metadata": {},
     "output_type": "execute_result"
    }
   ],
   "source": [
    "agloCluster = AgglomerativeClustering(n_clusters=2).fit(customer_segmentation_df_rfm[['Frequency', 'Recency', 'Monetary']])\n",
    "customer_segmentation_df_rfm['cluster'] = agloCluster.labels_\n",
    "print(customer_segmentation_df_rfm['cluster'].value_counts())\n",
    "display(customer_segmentation_df_rfm)"
   ]
  },
  {
   "cell_type": "markdown",
   "id": "e9feea51",
   "metadata": {},
   "source": [
    "### 시각화\n",
    "- matplotlib를 사용하여 데이터를 시각화할 수 있고 이를 통해 한 눈에 볼 수 없는 많은 데이터를 한 눈에 볼 수 있다.\n",
    "- 데이터 분석에 대한 전문 지식이 없는 일반인도 이해할 수 있다.\n",
    "- 동일한 통계를 가지고 있더라도, 시각화 시 변화나 패턴이 다를 수 있다."
   ]
  },
  {
   "cell_type": "code",
   "execution_count": 24,
   "id": "089866dd",
   "metadata": {
    "scrolled": false
   },
   "outputs": [
    {
     "data": {
      "image/png": "[encoded data removed]",
      "text/plain": [
       "<Figure size 500x500 with 1 Axes>"
      ]
     },
     "metadata": {},
     "output_type": "display_data"
    },
    {
     "data": {
      "image/png": "[encoded data removed]",
      "text/plain": [
       "<Figure size 500x500 with 1 Axes>"
      ]
     },
     "metadata": {},
     "output_type": "display_data"
    },
    {
     "data": {
      "image/png": "[encoded data removed]",
      "text/plain": [
       "<Figure size 500x500 with 1 Axes>"
      ]
     },
     "metadata": {},
     "output_type": "display_data"
    }
   ],
   "source": [
    "import matplotlib.pyplot as plt\n",
    "import seaborn as sns\n",
    "\n",
    "# Recency : 얼마나 최근에 구매했는가\n",
    "# Frequency : 얼마나 자주 구매했는가\n",
    "# Monetary : 얼마나 많은 금액을 지출했는가\n",
    "titles = ['Recency', 'Frequency', 'Monetary']\n",
    "\n",
    "# 집단 개수\n",
    "k = 2\n",
    "\n",
    "# 각 항목별\n",
    "for title in titles:\n",
    "    plt.figure(figsize = (5, 5))\n",
    "    \n",
    "#     집단 별\n",
    "    for i in range(k):\n",
    "#         scatter: 산점도(분포도)\n",
    "        plt.scatter(customer_segmentation_df_rfm.loc[customer_segmentation_df_rfm['cluster'] == i, 'cluster'], \n",
    "                    customer_segmentation_df_rfm.loc[customer_segmentation_df_rfm['cluster'] == i, title],\n",
    "                    label = f'cluster {i}')\n",
    "    \n",
    "#     색상별 제목(label) 표시\n",
    "    plt.legend()\n",
    "    plt.title(title, size = 15)\n",
    "    plt.xlabel('cluster', size = 12)\n",
    "    plt.ylabel(title, size = 12)\n",
    "    plt.show()"
   ]
  },
  {
   "cell_type": "markdown",
   "id": "a112d5e9",
   "metadata": {},
   "source": [
    "### boxplot\n",
    "- 데이터의 분포와 이상치를 한 번에 볼 수 있으며, 서로 다른 집단을 쉽게 비교할 수 있는 차트이다.\n",
    "<div style=\"display: flex\">\n",
    "    <img src=\"./images/boxplot2.png\" width=\"400\" style=\"margin-left: 20px\">\n",
    "    <img src=\"./images/boxplot1.png\" width=\"400\" style=\"margin-left: 20px\">\n",
    "<div>"
   ]
  },
  {
   "cell_type": "code",
   "execution_count": 25,
   "id": "7cef7734",
   "metadata": {},
   "outputs": [
    {
     "data": {
      "image/png": "[encoded data removed]",
      "text/plain": [
       "<Figure size 500x500 with 1 Axes>"
      ]
     },
     "metadata": {},
     "output_type": "display_data"
    },
    {
     "data": {
      "image/png": "[encoded data removed]",
      "text/plain": [
       "<Figure size 500x500 with 1 Axes>"
      ]
     },
     "metadata": {},
     "output_type": "display_data"
    },
    {
     "data": {
      "image/png": "[encoded data removed]",
      "text/plain": [
       "<Figure size 500x500 with 1 Axes>"
      ]
     },
     "metadata": {},
     "output_type": "display_data"
    }
   ],
   "source": [
    "titles = ['Recency', 'Frequency', 'Monetary']\n",
    "\n",
    "for title in titles:\n",
    "    plt.figure(figsize = (5, 5))\n",
    "    sns.boxplot(x = customer_segmentation_df_rfm.cluster, y = customer_segmentation_df_rfm[title], palette='muted')\n",
    "    plt.title(title)\n",
    "    plt.show()"
   ]
  }
 ],
 "metadata": {
  "kernelspec": {
   "display_name": "Python 3 (ipykernel)",
   "language": "python",
   "name": "python3"
  },
  "language_info": {
   "codemirror_mode": {
    "name": "ipython",
    "version": 3
   },
   "file_extension": ".py",
   "mimetype": "text/x-python",
   "name": "python",
   "nbconvert_exporter": "python",
   "pygments_lexer": "ipython3",
   "version": "3.11.5"
  }
 },
 "nbformat": 4,
 "nbformat_minor": 5
}
